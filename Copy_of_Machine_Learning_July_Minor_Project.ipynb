{
  "nbformat": 4,
  "nbformat_minor": 0,
  "metadata": {
    "colab": {
      "provenance": [],
      "include_colab_link": true
    },
    "kernelspec": {
      "name": "python3",
      "display_name": "Python 3"
    },
    "language_info": {
      "name": "python"
    }
  },
  "cells": [
    {
      "cell_type": "markdown",
      "metadata": {
        "id": "view-in-github",
        "colab_type": "text"
      },
      "source": [
        "<a href=\"https://colab.research.google.com/github/vinay-554/Gender-Voice-Recognition/blob/main/Copy_of_Machine_Learning_July_Minor_Project.ipynb\" target=\"_parent\"><img src=\"https://colab.research.google.com/assets/colab-badge.svg\" alt=\"Open In Colab\"/></a>"
      ]
    },
    {
      "cell_type": "markdown",
      "source": [
        "#Project Name:\n",
        "Machine Learning project-gender recognition based on voice"
      ],
      "metadata": {
        "id": "WvlCDLKRwm6j"
      }
    },
    {
      "cell_type": "markdown",
      "source": [
        "# Problem Statement:\n",
        "Create a Classification model to predict the gender(male or female) based on different acoustic parameters\n"
      ],
      "metadata": {
        "id": "Tb-Rv-EMiqeO"
      }
    },
    {
      "cell_type": "code",
      "execution_count": null,
      "metadata": {
        "id": "rC2UG_Jc-cu0"
      },
      "outputs": [],
      "source": [
        "import pandas as pd\n",
        "import numpy as np\n",
        "import matplotlib.pyplot as plt\n",
        "import seaborn as sns"
      ]
    },
    {
      "cell_type": "code",
      "source": [
        "df=pd.read_csv(\"voice.csv\")\n",
        "df"
      ],
      "metadata": {
        "colab": {
          "base_uri": "https://localhost:8080/",
          "height": 488
        },
        "id": "n4TDFeUL-qbp",
        "outputId": "eb3b2bf7-f3c0-40d0-aba8-2cff3fcac5aa"
      },
      "execution_count": null,
      "outputs": [
        {
          "output_type": "execute_result",
          "data": {
            "text/plain": [
              "      meanfreq        sd    median       Q25       Q75       IQR       skew  \\\n",
              "0     0.059781  0.064241  0.032027  0.015071  0.090193  0.075122  12.863462   \n",
              "1     0.066009  0.067310  0.040229  0.019414  0.092666  0.073252  22.423285   \n",
              "2     0.077316  0.083829  0.036718  0.008701  0.131908  0.123207  30.757155   \n",
              "3     0.151228  0.072111  0.158011  0.096582  0.207955  0.111374   1.232831   \n",
              "4     0.135120  0.079146  0.124656  0.078720  0.206045  0.127325   1.101174   \n",
              "...        ...       ...       ...       ...       ...       ...        ...   \n",
              "3163  0.131884  0.084734  0.153707  0.049285  0.201144  0.151859   1.762129   \n",
              "3164  0.116221  0.089221  0.076758  0.042718  0.204911  0.162193   0.693730   \n",
              "3165  0.142056  0.095798  0.183731  0.033424  0.224360  0.190936   1.876502   \n",
              "3166  0.143659  0.090628  0.184976  0.043508  0.219943  0.176435   1.591065   \n",
              "3167  0.165509  0.092884  0.183044  0.070072  0.250827  0.180756   1.705029   \n",
              "\n",
              "             kurt    sp.ent       sfm  ...  centroid   meanfun    minfun  \\\n",
              "0      274.402906  0.893369  0.491918  ...  0.059781  0.084279  0.015702   \n",
              "1      634.613855  0.892193  0.513724  ...  0.066009  0.107937  0.015826   \n",
              "2     1024.927705  0.846389  0.478905  ...  0.077316  0.098706  0.015656   \n",
              "3        4.177296  0.963322  0.727232  ...  0.151228  0.088965  0.017798   \n",
              "4        4.333713  0.971955  0.783568  ...  0.135120  0.106398  0.016931   \n",
              "...           ...       ...       ...  ...       ...       ...       ...   \n",
              "3163     6.630383  0.962934  0.763182  ...  0.131884  0.182790  0.083770   \n",
              "3164     2.503954  0.960716  0.709570  ...  0.116221  0.188980  0.034409   \n",
              "3165     6.604509  0.946854  0.654196  ...  0.142056  0.209918  0.039506   \n",
              "3166     5.388298  0.950436  0.675470  ...  0.143659  0.172375  0.034483   \n",
              "3167     5.769115  0.938829  0.601529  ...  0.165509  0.185607  0.062257   \n",
              "\n",
              "        maxfun   meandom    mindom    maxdom   dfrange   modindx   label  \n",
              "0     0.275862  0.007812  0.007812  0.007812  0.000000  0.000000    male  \n",
              "1     0.250000  0.009014  0.007812  0.054688  0.046875  0.052632    male  \n",
              "2     0.271186  0.007990  0.007812  0.015625  0.007812  0.046512    male  \n",
              "3     0.250000  0.201497  0.007812  0.562500  0.554688  0.247119    male  \n",
              "4     0.266667  0.712812  0.007812  5.484375  5.476562  0.208274    male  \n",
              "...        ...       ...       ...       ...       ...       ...     ...  \n",
              "3163  0.262295  0.832899  0.007812  4.210938  4.203125  0.161929  female  \n",
              "3164  0.275862  0.909856  0.039062  3.679688  3.640625  0.277897  female  \n",
              "3165  0.275862  0.494271  0.007812  2.937500  2.929688  0.194759  female  \n",
              "3166  0.250000  0.791360  0.007812  3.593750  3.585938  0.311002  female  \n",
              "3167  0.271186  0.227022  0.007812  0.554688  0.546875  0.350000  female  \n",
              "\n",
              "[3168 rows x 21 columns]"
            ],
            "text/html": [
              "\n",
              "  <div id=\"df-3856c04a-d643-48e7-af34-dad86f5d1cf6\">\n",
              "    <div class=\"colab-df-container\">\n",
              "      <div>\n",
              "<style scoped>\n",
              "    .dataframe tbody tr th:only-of-type {\n",
              "        vertical-align: middle;\n",
              "    }\n",
              "\n",
              "    .dataframe tbody tr th {\n",
              "        vertical-align: top;\n",
              "    }\n",
              "\n",
              "    .dataframe thead th {\n",
              "        text-align: right;\n",
              "    }\n",
              "</style>\n",
              "<table border=\"1\" class=\"dataframe\">\n",
              "  <thead>\n",
              "    <tr style=\"text-align: right;\">\n",
              "      <th></th>\n",
              "      <th>meanfreq</th>\n",
              "      <th>sd</th>\n",
              "      <th>median</th>\n",
              "      <th>Q25</th>\n",
              "      <th>Q75</th>\n",
              "      <th>IQR</th>\n",
              "      <th>skew</th>\n",
              "      <th>kurt</th>\n",
              "      <th>sp.ent</th>\n",
              "      <th>sfm</th>\n",
              "      <th>...</th>\n",
              "      <th>centroid</th>\n",
              "      <th>meanfun</th>\n",
              "      <th>minfun</th>\n",
              "      <th>maxfun</th>\n",
              "      <th>meandom</th>\n",
              "      <th>mindom</th>\n",
              "      <th>maxdom</th>\n",
              "      <th>dfrange</th>\n",
              "      <th>modindx</th>\n",
              "      <th>label</th>\n",
              "    </tr>\n",
              "  </thead>\n",
              "  <tbody>\n",
              "    <tr>\n",
              "      <th>0</th>\n",
              "      <td>0.059781</td>\n",
              "      <td>0.064241</td>\n",
              "      <td>0.032027</td>\n",
              "      <td>0.015071</td>\n",
              "      <td>0.090193</td>\n",
              "      <td>0.075122</td>\n",
              "      <td>12.863462</td>\n",
              "      <td>274.402906</td>\n",
              "      <td>0.893369</td>\n",
              "      <td>0.491918</td>\n",
              "      <td>...</td>\n",
              "      <td>0.059781</td>\n",
              "      <td>0.084279</td>\n",
              "      <td>0.015702</td>\n",
              "      <td>0.275862</td>\n",
              "      <td>0.007812</td>\n",
              "      <td>0.007812</td>\n",
              "      <td>0.007812</td>\n",
              "      <td>0.000000</td>\n",
              "      <td>0.000000</td>\n",
              "      <td>male</td>\n",
              "    </tr>\n",
              "    <tr>\n",
              "      <th>1</th>\n",
              "      <td>0.066009</td>\n",
              "      <td>0.067310</td>\n",
              "      <td>0.040229</td>\n",
              "      <td>0.019414</td>\n",
              "      <td>0.092666</td>\n",
              "      <td>0.073252</td>\n",
              "      <td>22.423285</td>\n",
              "      <td>634.613855</td>\n",
              "      <td>0.892193</td>\n",
              "      <td>0.513724</td>\n",
              "      <td>...</td>\n",
              "      <td>0.066009</td>\n",
              "      <td>0.107937</td>\n",
              "      <td>0.015826</td>\n",
              "      <td>0.250000</td>\n",
              "      <td>0.009014</td>\n",
              "      <td>0.007812</td>\n",
              "      <td>0.054688</td>\n",
              "      <td>0.046875</td>\n",
              "      <td>0.052632</td>\n",
              "      <td>male</td>\n",
              "    </tr>\n",
              "    <tr>\n",
              "      <th>2</th>\n",
              "      <td>0.077316</td>\n",
              "      <td>0.083829</td>\n",
              "      <td>0.036718</td>\n",
              "      <td>0.008701</td>\n",
              "      <td>0.131908</td>\n",
              "      <td>0.123207</td>\n",
              "      <td>30.757155</td>\n",
              "      <td>1024.927705</td>\n",
              "      <td>0.846389</td>\n",
              "      <td>0.478905</td>\n",
              "      <td>...</td>\n",
              "      <td>0.077316</td>\n",
              "      <td>0.098706</td>\n",
              "      <td>0.015656</td>\n",
              "      <td>0.271186</td>\n",
              "      <td>0.007990</td>\n",
              "      <td>0.007812</td>\n",
              "      <td>0.015625</td>\n",
              "      <td>0.007812</td>\n",
              "      <td>0.046512</td>\n",
              "      <td>male</td>\n",
              "    </tr>\n",
              "    <tr>\n",
              "      <th>3</th>\n",
              "      <td>0.151228</td>\n",
              "      <td>0.072111</td>\n",
              "      <td>0.158011</td>\n",
              "      <td>0.096582</td>\n",
              "      <td>0.207955</td>\n",
              "      <td>0.111374</td>\n",
              "      <td>1.232831</td>\n",
              "      <td>4.177296</td>\n",
              "      <td>0.963322</td>\n",
              "      <td>0.727232</td>\n",
              "      <td>...</td>\n",
              "      <td>0.151228</td>\n",
              "      <td>0.088965</td>\n",
              "      <td>0.017798</td>\n",
              "      <td>0.250000</td>\n",
              "      <td>0.201497</td>\n",
              "      <td>0.007812</td>\n",
              "      <td>0.562500</td>\n",
              "      <td>0.554688</td>\n",
              "      <td>0.247119</td>\n",
              "      <td>male</td>\n",
              "    </tr>\n",
              "    <tr>\n",
              "      <th>4</th>\n",
              "      <td>0.135120</td>\n",
              "      <td>0.079146</td>\n",
              "      <td>0.124656</td>\n",
              "      <td>0.078720</td>\n",
              "      <td>0.206045</td>\n",
              "      <td>0.127325</td>\n",
              "      <td>1.101174</td>\n",
              "      <td>4.333713</td>\n",
              "      <td>0.971955</td>\n",
              "      <td>0.783568</td>\n",
              "      <td>...</td>\n",
              "      <td>0.135120</td>\n",
              "      <td>0.106398</td>\n",
              "      <td>0.016931</td>\n",
              "      <td>0.266667</td>\n",
              "      <td>0.712812</td>\n",
              "      <td>0.007812</td>\n",
              "      <td>5.484375</td>\n",
              "      <td>5.476562</td>\n",
              "      <td>0.208274</td>\n",
              "      <td>male</td>\n",
              "    </tr>\n",
              "    <tr>\n",
              "      <th>...</th>\n",
              "      <td>...</td>\n",
              "      <td>...</td>\n",
              "      <td>...</td>\n",
              "      <td>...</td>\n",
              "      <td>...</td>\n",
              "      <td>...</td>\n",
              "      <td>...</td>\n",
              "      <td>...</td>\n",
              "      <td>...</td>\n",
              "      <td>...</td>\n",
              "      <td>...</td>\n",
              "      <td>...</td>\n",
              "      <td>...</td>\n",
              "      <td>...</td>\n",
              "      <td>...</td>\n",
              "      <td>...</td>\n",
              "      <td>...</td>\n",
              "      <td>...</td>\n",
              "      <td>...</td>\n",
              "      <td>...</td>\n",
              "      <td>...</td>\n",
              "    </tr>\n",
              "    <tr>\n",
              "      <th>3163</th>\n",
              "      <td>0.131884</td>\n",
              "      <td>0.084734</td>\n",
              "      <td>0.153707</td>\n",
              "      <td>0.049285</td>\n",
              "      <td>0.201144</td>\n",
              "      <td>0.151859</td>\n",
              "      <td>1.762129</td>\n",
              "      <td>6.630383</td>\n",
              "      <td>0.962934</td>\n",
              "      <td>0.763182</td>\n",
              "      <td>...</td>\n",
              "      <td>0.131884</td>\n",
              "      <td>0.182790</td>\n",
              "      <td>0.083770</td>\n",
              "      <td>0.262295</td>\n",
              "      <td>0.832899</td>\n",
              "      <td>0.007812</td>\n",
              "      <td>4.210938</td>\n",
              "      <td>4.203125</td>\n",
              "      <td>0.161929</td>\n",
              "      <td>female</td>\n",
              "    </tr>\n",
              "    <tr>\n",
              "      <th>3164</th>\n",
              "      <td>0.116221</td>\n",
              "      <td>0.089221</td>\n",
              "      <td>0.076758</td>\n",
              "      <td>0.042718</td>\n",
              "      <td>0.204911</td>\n",
              "      <td>0.162193</td>\n",
              "      <td>0.693730</td>\n",
              "      <td>2.503954</td>\n",
              "      <td>0.960716</td>\n",
              "      <td>0.709570</td>\n",
              "      <td>...</td>\n",
              "      <td>0.116221</td>\n",
              "      <td>0.188980</td>\n",
              "      <td>0.034409</td>\n",
              "      <td>0.275862</td>\n",
              "      <td>0.909856</td>\n",
              "      <td>0.039062</td>\n",
              "      <td>3.679688</td>\n",
              "      <td>3.640625</td>\n",
              "      <td>0.277897</td>\n",
              "      <td>female</td>\n",
              "    </tr>\n",
              "    <tr>\n",
              "      <th>3165</th>\n",
              "      <td>0.142056</td>\n",
              "      <td>0.095798</td>\n",
              "      <td>0.183731</td>\n",
              "      <td>0.033424</td>\n",
              "      <td>0.224360</td>\n",
              "      <td>0.190936</td>\n",
              "      <td>1.876502</td>\n",
              "      <td>6.604509</td>\n",
              "      <td>0.946854</td>\n",
              "      <td>0.654196</td>\n",
              "      <td>...</td>\n",
              "      <td>0.142056</td>\n",
              "      <td>0.209918</td>\n",
              "      <td>0.039506</td>\n",
              "      <td>0.275862</td>\n",
              "      <td>0.494271</td>\n",
              "      <td>0.007812</td>\n",
              "      <td>2.937500</td>\n",
              "      <td>2.929688</td>\n",
              "      <td>0.194759</td>\n",
              "      <td>female</td>\n",
              "    </tr>\n",
              "    <tr>\n",
              "      <th>3166</th>\n",
              "      <td>0.143659</td>\n",
              "      <td>0.090628</td>\n",
              "      <td>0.184976</td>\n",
              "      <td>0.043508</td>\n",
              "      <td>0.219943</td>\n",
              "      <td>0.176435</td>\n",
              "      <td>1.591065</td>\n",
              "      <td>5.388298</td>\n",
              "      <td>0.950436</td>\n",
              "      <td>0.675470</td>\n",
              "      <td>...</td>\n",
              "      <td>0.143659</td>\n",
              "      <td>0.172375</td>\n",
              "      <td>0.034483</td>\n",
              "      <td>0.250000</td>\n",
              "      <td>0.791360</td>\n",
              "      <td>0.007812</td>\n",
              "      <td>3.593750</td>\n",
              "      <td>3.585938</td>\n",
              "      <td>0.311002</td>\n",
              "      <td>female</td>\n",
              "    </tr>\n",
              "    <tr>\n",
              "      <th>3167</th>\n",
              "      <td>0.165509</td>\n",
              "      <td>0.092884</td>\n",
              "      <td>0.183044</td>\n",
              "      <td>0.070072</td>\n",
              "      <td>0.250827</td>\n",
              "      <td>0.180756</td>\n",
              "      <td>1.705029</td>\n",
              "      <td>5.769115</td>\n",
              "      <td>0.938829</td>\n",
              "      <td>0.601529</td>\n",
              "      <td>...</td>\n",
              "      <td>0.165509</td>\n",
              "      <td>0.185607</td>\n",
              "      <td>0.062257</td>\n",
              "      <td>0.271186</td>\n",
              "      <td>0.227022</td>\n",
              "      <td>0.007812</td>\n",
              "      <td>0.554688</td>\n",
              "      <td>0.546875</td>\n",
              "      <td>0.350000</td>\n",
              "      <td>female</td>\n",
              "    </tr>\n",
              "  </tbody>\n",
              "</table>\n",
              "<p>3168 rows × 21 columns</p>\n",
              "</div>\n",
              "      <button class=\"colab-df-convert\" onclick=\"convertToInteractive('df-3856c04a-d643-48e7-af34-dad86f5d1cf6')\"\n",
              "              title=\"Convert this dataframe to an interactive table.\"\n",
              "              style=\"display:none;\">\n",
              "        \n",
              "  <svg xmlns=\"http://www.w3.org/2000/svg\" height=\"24px\"viewBox=\"0 0 24 24\"\n",
              "       width=\"24px\">\n",
              "    <path d=\"M0 0h24v24H0V0z\" fill=\"none\"/>\n",
              "    <path d=\"M18.56 5.44l.94 2.06.94-2.06 2.06-.94-2.06-.94-.94-2.06-.94 2.06-2.06.94zm-11 1L8.5 8.5l.94-2.06 2.06-.94-2.06-.94L8.5 2.5l-.94 2.06-2.06.94zm10 10l.94 2.06.94-2.06 2.06-.94-2.06-.94-.94-2.06-.94 2.06-2.06.94z\"/><path d=\"M17.41 7.96l-1.37-1.37c-.4-.4-.92-.59-1.43-.59-.52 0-1.04.2-1.43.59L10.3 9.45l-7.72 7.72c-.78.78-.78 2.05 0 2.83L4 21.41c.39.39.9.59 1.41.59.51 0 1.02-.2 1.41-.59l7.78-7.78 2.81-2.81c.8-.78.8-2.07 0-2.86zM5.41 20L4 18.59l7.72-7.72 1.47 1.35L5.41 20z\"/>\n",
              "  </svg>\n",
              "      </button>\n",
              "      \n",
              "  <style>\n",
              "    .colab-df-container {\n",
              "      display:flex;\n",
              "      flex-wrap:wrap;\n",
              "      gap: 12px;\n",
              "    }\n",
              "\n",
              "    .colab-df-convert {\n",
              "      background-color: #E8F0FE;\n",
              "      border: none;\n",
              "      border-radius: 50%;\n",
              "      cursor: pointer;\n",
              "      display: none;\n",
              "      fill: #1967D2;\n",
              "      height: 32px;\n",
              "      padding: 0 0 0 0;\n",
              "      width: 32px;\n",
              "    }\n",
              "\n",
              "    .colab-df-convert:hover {\n",
              "      background-color: #E2EBFA;\n",
              "      box-shadow: 0px 1px 2px rgba(60, 64, 67, 0.3), 0px 1px 3px 1px rgba(60, 64, 67, 0.15);\n",
              "      fill: #174EA6;\n",
              "    }\n",
              "\n",
              "    [theme=dark] .colab-df-convert {\n",
              "      background-color: #3B4455;\n",
              "      fill: #D2E3FC;\n",
              "    }\n",
              "\n",
              "    [theme=dark] .colab-df-convert:hover {\n",
              "      background-color: #434B5C;\n",
              "      box-shadow: 0px 1px 3px 1px rgba(0, 0, 0, 0.15);\n",
              "      filter: drop-shadow(0px 1px 2px rgba(0, 0, 0, 0.3));\n",
              "      fill: #FFFFFF;\n",
              "    }\n",
              "  </style>\n",
              "\n",
              "      <script>\n",
              "        const buttonEl =\n",
              "          document.querySelector('#df-3856c04a-d643-48e7-af34-dad86f5d1cf6 button.colab-df-convert');\n",
              "        buttonEl.style.display =\n",
              "          google.colab.kernel.accessAllowed ? 'block' : 'none';\n",
              "\n",
              "        async function convertToInteractive(key) {\n",
              "          const element = document.querySelector('#df-3856c04a-d643-48e7-af34-dad86f5d1cf6');\n",
              "          const dataTable =\n",
              "            await google.colab.kernel.invokeFunction('convertToInteractive',\n",
              "                                                     [key], {});\n",
              "          if (!dataTable) return;\n",
              "\n",
              "          const docLinkHtml = 'Like what you see? Visit the ' +\n",
              "            '<a target=\"_blank\" href=https://colab.research.google.com/notebooks/data_table.ipynb>data table notebook</a>'\n",
              "            + ' to learn more about interactive tables.';\n",
              "          element.innerHTML = '';\n",
              "          dataTable['output_type'] = 'display_data';\n",
              "          await google.colab.output.renderOutput(dataTable, element);\n",
              "          const docLink = document.createElement('div');\n",
              "          docLink.innerHTML = docLinkHtml;\n",
              "          element.appendChild(docLink);\n",
              "        }\n",
              "      </script>\n",
              "    </div>\n",
              "  </div>\n",
              "  "
            ]
          },
          "metadata": {},
          "execution_count": 2
        }
      ]
    },
    {
      "cell_type": "code",
      "source": [
        "df.head()"
      ],
      "metadata": {
        "id": "mPOmyQi2B2Cj",
        "colab": {
          "base_uri": "https://localhost:8080/",
          "height": 299
        },
        "outputId": "e4089bcf-8f0e-4300-d77b-b90d61caa60d"
      },
      "execution_count": null,
      "outputs": [
        {
          "output_type": "execute_result",
          "data": {
            "text/plain": [
              "   meanfreq        sd    median       Q25       Q75       IQR       skew  \\\n",
              "0  0.059781  0.064241  0.032027  0.015071  0.090193  0.075122  12.863462   \n",
              "1  0.066009  0.067310  0.040229  0.019414  0.092666  0.073252  22.423285   \n",
              "2  0.077316  0.083829  0.036718  0.008701  0.131908  0.123207  30.757155   \n",
              "3  0.151228  0.072111  0.158011  0.096582  0.207955  0.111374   1.232831   \n",
              "4  0.135120  0.079146  0.124656  0.078720  0.206045  0.127325   1.101174   \n",
              "\n",
              "          kurt    sp.ent       sfm  ...  centroid   meanfun    minfun  \\\n",
              "0   274.402906  0.893369  0.491918  ...  0.059781  0.084279  0.015702   \n",
              "1   634.613855  0.892193  0.513724  ...  0.066009  0.107937  0.015826   \n",
              "2  1024.927705  0.846389  0.478905  ...  0.077316  0.098706  0.015656   \n",
              "3     4.177296  0.963322  0.727232  ...  0.151228  0.088965  0.017798   \n",
              "4     4.333713  0.971955  0.783568  ...  0.135120  0.106398  0.016931   \n",
              "\n",
              "     maxfun   meandom    mindom    maxdom   dfrange   modindx  label  \n",
              "0  0.275862  0.007812  0.007812  0.007812  0.000000  0.000000   male  \n",
              "1  0.250000  0.009014  0.007812  0.054688  0.046875  0.052632   male  \n",
              "2  0.271186  0.007990  0.007812  0.015625  0.007812  0.046512   male  \n",
              "3  0.250000  0.201497  0.007812  0.562500  0.554688  0.247119   male  \n",
              "4  0.266667  0.712812  0.007812  5.484375  5.476562  0.208274   male  \n",
              "\n",
              "[5 rows x 21 columns]"
            ],
            "text/html": [
              "\n",
              "  <div id=\"df-ef53244e-b257-4b2f-8bba-c335b988ece7\">\n",
              "    <div class=\"colab-df-container\">\n",
              "      <div>\n",
              "<style scoped>\n",
              "    .dataframe tbody tr th:only-of-type {\n",
              "        vertical-align: middle;\n",
              "    }\n",
              "\n",
              "    .dataframe tbody tr th {\n",
              "        vertical-align: top;\n",
              "    }\n",
              "\n",
              "    .dataframe thead th {\n",
              "        text-align: right;\n",
              "    }\n",
              "</style>\n",
              "<table border=\"1\" class=\"dataframe\">\n",
              "  <thead>\n",
              "    <tr style=\"text-align: right;\">\n",
              "      <th></th>\n",
              "      <th>meanfreq</th>\n",
              "      <th>sd</th>\n",
              "      <th>median</th>\n",
              "      <th>Q25</th>\n",
              "      <th>Q75</th>\n",
              "      <th>IQR</th>\n",
              "      <th>skew</th>\n",
              "      <th>kurt</th>\n",
              "      <th>sp.ent</th>\n",
              "      <th>sfm</th>\n",
              "      <th>...</th>\n",
              "      <th>centroid</th>\n",
              "      <th>meanfun</th>\n",
              "      <th>minfun</th>\n",
              "      <th>maxfun</th>\n",
              "      <th>meandom</th>\n",
              "      <th>mindom</th>\n",
              "      <th>maxdom</th>\n",
              "      <th>dfrange</th>\n",
              "      <th>modindx</th>\n",
              "      <th>label</th>\n",
              "    </tr>\n",
              "  </thead>\n",
              "  <tbody>\n",
              "    <tr>\n",
              "      <th>0</th>\n",
              "      <td>0.059781</td>\n",
              "      <td>0.064241</td>\n",
              "      <td>0.032027</td>\n",
              "      <td>0.015071</td>\n",
              "      <td>0.090193</td>\n",
              "      <td>0.075122</td>\n",
              "      <td>12.863462</td>\n",
              "      <td>274.402906</td>\n",
              "      <td>0.893369</td>\n",
              "      <td>0.491918</td>\n",
              "      <td>...</td>\n",
              "      <td>0.059781</td>\n",
              "      <td>0.084279</td>\n",
              "      <td>0.015702</td>\n",
              "      <td>0.275862</td>\n",
              "      <td>0.007812</td>\n",
              "      <td>0.007812</td>\n",
              "      <td>0.007812</td>\n",
              "      <td>0.000000</td>\n",
              "      <td>0.000000</td>\n",
              "      <td>male</td>\n",
              "    </tr>\n",
              "    <tr>\n",
              "      <th>1</th>\n",
              "      <td>0.066009</td>\n",
              "      <td>0.067310</td>\n",
              "      <td>0.040229</td>\n",
              "      <td>0.019414</td>\n",
              "      <td>0.092666</td>\n",
              "      <td>0.073252</td>\n",
              "      <td>22.423285</td>\n",
              "      <td>634.613855</td>\n",
              "      <td>0.892193</td>\n",
              "      <td>0.513724</td>\n",
              "      <td>...</td>\n",
              "      <td>0.066009</td>\n",
              "      <td>0.107937</td>\n",
              "      <td>0.015826</td>\n",
              "      <td>0.250000</td>\n",
              "      <td>0.009014</td>\n",
              "      <td>0.007812</td>\n",
              "      <td>0.054688</td>\n",
              "      <td>0.046875</td>\n",
              "      <td>0.052632</td>\n",
              "      <td>male</td>\n",
              "    </tr>\n",
              "    <tr>\n",
              "      <th>2</th>\n",
              "      <td>0.077316</td>\n",
              "      <td>0.083829</td>\n",
              "      <td>0.036718</td>\n",
              "      <td>0.008701</td>\n",
              "      <td>0.131908</td>\n",
              "      <td>0.123207</td>\n",
              "      <td>30.757155</td>\n",
              "      <td>1024.927705</td>\n",
              "      <td>0.846389</td>\n",
              "      <td>0.478905</td>\n",
              "      <td>...</td>\n",
              "      <td>0.077316</td>\n",
              "      <td>0.098706</td>\n",
              "      <td>0.015656</td>\n",
              "      <td>0.271186</td>\n",
              "      <td>0.007990</td>\n",
              "      <td>0.007812</td>\n",
              "      <td>0.015625</td>\n",
              "      <td>0.007812</td>\n",
              "      <td>0.046512</td>\n",
              "      <td>male</td>\n",
              "    </tr>\n",
              "    <tr>\n",
              "      <th>3</th>\n",
              "      <td>0.151228</td>\n",
              "      <td>0.072111</td>\n",
              "      <td>0.158011</td>\n",
              "      <td>0.096582</td>\n",
              "      <td>0.207955</td>\n",
              "      <td>0.111374</td>\n",
              "      <td>1.232831</td>\n",
              "      <td>4.177296</td>\n",
              "      <td>0.963322</td>\n",
              "      <td>0.727232</td>\n",
              "      <td>...</td>\n",
              "      <td>0.151228</td>\n",
              "      <td>0.088965</td>\n",
              "      <td>0.017798</td>\n",
              "      <td>0.250000</td>\n",
              "      <td>0.201497</td>\n",
              "      <td>0.007812</td>\n",
              "      <td>0.562500</td>\n",
              "      <td>0.554688</td>\n",
              "      <td>0.247119</td>\n",
              "      <td>male</td>\n",
              "    </tr>\n",
              "    <tr>\n",
              "      <th>4</th>\n",
              "      <td>0.135120</td>\n",
              "      <td>0.079146</td>\n",
              "      <td>0.124656</td>\n",
              "      <td>0.078720</td>\n",
              "      <td>0.206045</td>\n",
              "      <td>0.127325</td>\n",
              "      <td>1.101174</td>\n",
              "      <td>4.333713</td>\n",
              "      <td>0.971955</td>\n",
              "      <td>0.783568</td>\n",
              "      <td>...</td>\n",
              "      <td>0.135120</td>\n",
              "      <td>0.106398</td>\n",
              "      <td>0.016931</td>\n",
              "      <td>0.266667</td>\n",
              "      <td>0.712812</td>\n",
              "      <td>0.007812</td>\n",
              "      <td>5.484375</td>\n",
              "      <td>5.476562</td>\n",
              "      <td>0.208274</td>\n",
              "      <td>male</td>\n",
              "    </tr>\n",
              "  </tbody>\n",
              "</table>\n",
              "<p>5 rows × 21 columns</p>\n",
              "</div>\n",
              "      <button class=\"colab-df-convert\" onclick=\"convertToInteractive('df-ef53244e-b257-4b2f-8bba-c335b988ece7')\"\n",
              "              title=\"Convert this dataframe to an interactive table.\"\n",
              "              style=\"display:none;\">\n",
              "        \n",
              "  <svg xmlns=\"http://www.w3.org/2000/svg\" height=\"24px\"viewBox=\"0 0 24 24\"\n",
              "       width=\"24px\">\n",
              "    <path d=\"M0 0h24v24H0V0z\" fill=\"none\"/>\n",
              "    <path d=\"M18.56 5.44l.94 2.06.94-2.06 2.06-.94-2.06-.94-.94-2.06-.94 2.06-2.06.94zm-11 1L8.5 8.5l.94-2.06 2.06-.94-2.06-.94L8.5 2.5l-.94 2.06-2.06.94zm10 10l.94 2.06.94-2.06 2.06-.94-2.06-.94-.94-2.06-.94 2.06-2.06.94z\"/><path d=\"M17.41 7.96l-1.37-1.37c-.4-.4-.92-.59-1.43-.59-.52 0-1.04.2-1.43.59L10.3 9.45l-7.72 7.72c-.78.78-.78 2.05 0 2.83L4 21.41c.39.39.9.59 1.41.59.51 0 1.02-.2 1.41-.59l7.78-7.78 2.81-2.81c.8-.78.8-2.07 0-2.86zM5.41 20L4 18.59l7.72-7.72 1.47 1.35L5.41 20z\"/>\n",
              "  </svg>\n",
              "      </button>\n",
              "      \n",
              "  <style>\n",
              "    .colab-df-container {\n",
              "      display:flex;\n",
              "      flex-wrap:wrap;\n",
              "      gap: 12px;\n",
              "    }\n",
              "\n",
              "    .colab-df-convert {\n",
              "      background-color: #E8F0FE;\n",
              "      border: none;\n",
              "      border-radius: 50%;\n",
              "      cursor: pointer;\n",
              "      display: none;\n",
              "      fill: #1967D2;\n",
              "      height: 32px;\n",
              "      padding: 0 0 0 0;\n",
              "      width: 32px;\n",
              "    }\n",
              "\n",
              "    .colab-df-convert:hover {\n",
              "      background-color: #E2EBFA;\n",
              "      box-shadow: 0px 1px 2px rgba(60, 64, 67, 0.3), 0px 1px 3px 1px rgba(60, 64, 67, 0.15);\n",
              "      fill: #174EA6;\n",
              "    }\n",
              "\n",
              "    [theme=dark] .colab-df-convert {\n",
              "      background-color: #3B4455;\n",
              "      fill: #D2E3FC;\n",
              "    }\n",
              "\n",
              "    [theme=dark] .colab-df-convert:hover {\n",
              "      background-color: #434B5C;\n",
              "      box-shadow: 0px 1px 3px 1px rgba(0, 0, 0, 0.15);\n",
              "      filter: drop-shadow(0px 1px 2px rgba(0, 0, 0, 0.3));\n",
              "      fill: #FFFFFF;\n",
              "    }\n",
              "  </style>\n",
              "\n",
              "      <script>\n",
              "        const buttonEl =\n",
              "          document.querySelector('#df-ef53244e-b257-4b2f-8bba-c335b988ece7 button.colab-df-convert');\n",
              "        buttonEl.style.display =\n",
              "          google.colab.kernel.accessAllowed ? 'block' : 'none';\n",
              "\n",
              "        async function convertToInteractive(key) {\n",
              "          const element = document.querySelector('#df-ef53244e-b257-4b2f-8bba-c335b988ece7');\n",
              "          const dataTable =\n",
              "            await google.colab.kernel.invokeFunction('convertToInteractive',\n",
              "                                                     [key], {});\n",
              "          if (!dataTable) return;\n",
              "\n",
              "          const docLinkHtml = 'Like what you see? Visit the ' +\n",
              "            '<a target=\"_blank\" href=https://colab.research.google.com/notebooks/data_table.ipynb>data table notebook</a>'\n",
              "            + ' to learn more about interactive tables.';\n",
              "          element.innerHTML = '';\n",
              "          dataTable['output_type'] = 'display_data';\n",
              "          await google.colab.output.renderOutput(dataTable, element);\n",
              "          const docLink = document.createElement('div');\n",
              "          docLink.innerHTML = docLinkHtml;\n",
              "          element.appendChild(docLink);\n",
              "        }\n",
              "      </script>\n",
              "    </div>\n",
              "  </div>\n",
              "  "
            ]
          },
          "metadata": {},
          "execution_count": 28
        }
      ]
    },
    {
      "cell_type": "code",
      "source": [
        "df.tail()"
      ],
      "metadata": {
        "colab": {
          "base_uri": "https://localhost:8080/",
          "height": 299
        },
        "id": "3w0TgKpXvV8l",
        "outputId": "5cd09fb2-2002-4b09-891f-f7f175109ff8"
      },
      "execution_count": null,
      "outputs": [
        {
          "output_type": "execute_result",
          "data": {
            "text/plain": [
              "      meanfreq        sd    median       Q25       Q75       IQR      skew  \\\n",
              "3163  0.131884  0.084734  0.153707  0.049285  0.201144  0.151859  1.762129   \n",
              "3164  0.116221  0.089221  0.076758  0.042718  0.204911  0.162193  0.693730   \n",
              "3165  0.142056  0.095798  0.183731  0.033424  0.224360  0.190936  1.876502   \n",
              "3166  0.143659  0.090628  0.184976  0.043508  0.219943  0.176435  1.591065   \n",
              "3167  0.165509  0.092884  0.183044  0.070072  0.250827  0.180756  1.705029   \n",
              "\n",
              "          kurt    sp.ent       sfm  ...  centroid   meanfun    minfun  \\\n",
              "3163  6.630383  0.962934  0.763182  ...  0.131884  0.182790  0.083770   \n",
              "3164  2.503954  0.960716  0.709570  ...  0.116221  0.188980  0.034409   \n",
              "3165  6.604509  0.946854  0.654196  ...  0.142056  0.209918  0.039506   \n",
              "3166  5.388298  0.950436  0.675470  ...  0.143659  0.172375  0.034483   \n",
              "3167  5.769115  0.938829  0.601529  ...  0.165509  0.185607  0.062257   \n",
              "\n",
              "        maxfun   meandom    mindom    maxdom   dfrange   modindx   label  \n",
              "3163  0.262295  0.832899  0.007812  4.210938  4.203125  0.161929  female  \n",
              "3164  0.275862  0.909856  0.039062  3.679688  3.640625  0.277897  female  \n",
              "3165  0.275862  0.494271  0.007812  2.937500  2.929688  0.194759  female  \n",
              "3166  0.250000  0.791360  0.007812  3.593750  3.585938  0.311002  female  \n",
              "3167  0.271186  0.227022  0.007812  0.554688  0.546875  0.350000  female  \n",
              "\n",
              "[5 rows x 21 columns]"
            ],
            "text/html": [
              "\n",
              "  <div id=\"df-422362d5-4f25-4c74-b525-bcf94fd439d2\">\n",
              "    <div class=\"colab-df-container\">\n",
              "      <div>\n",
              "<style scoped>\n",
              "    .dataframe tbody tr th:only-of-type {\n",
              "        vertical-align: middle;\n",
              "    }\n",
              "\n",
              "    .dataframe tbody tr th {\n",
              "        vertical-align: top;\n",
              "    }\n",
              "\n",
              "    .dataframe thead th {\n",
              "        text-align: right;\n",
              "    }\n",
              "</style>\n",
              "<table border=\"1\" class=\"dataframe\">\n",
              "  <thead>\n",
              "    <tr style=\"text-align: right;\">\n",
              "      <th></th>\n",
              "      <th>meanfreq</th>\n",
              "      <th>sd</th>\n",
              "      <th>median</th>\n",
              "      <th>Q25</th>\n",
              "      <th>Q75</th>\n",
              "      <th>IQR</th>\n",
              "      <th>skew</th>\n",
              "      <th>kurt</th>\n",
              "      <th>sp.ent</th>\n",
              "      <th>sfm</th>\n",
              "      <th>...</th>\n",
              "      <th>centroid</th>\n",
              "      <th>meanfun</th>\n",
              "      <th>minfun</th>\n",
              "      <th>maxfun</th>\n",
              "      <th>meandom</th>\n",
              "      <th>mindom</th>\n",
              "      <th>maxdom</th>\n",
              "      <th>dfrange</th>\n",
              "      <th>modindx</th>\n",
              "      <th>label</th>\n",
              "    </tr>\n",
              "  </thead>\n",
              "  <tbody>\n",
              "    <tr>\n",
              "      <th>3163</th>\n",
              "      <td>0.131884</td>\n",
              "      <td>0.084734</td>\n",
              "      <td>0.153707</td>\n",
              "      <td>0.049285</td>\n",
              "      <td>0.201144</td>\n",
              "      <td>0.151859</td>\n",
              "      <td>1.762129</td>\n",
              "      <td>6.630383</td>\n",
              "      <td>0.962934</td>\n",
              "      <td>0.763182</td>\n",
              "      <td>...</td>\n",
              "      <td>0.131884</td>\n",
              "      <td>0.182790</td>\n",
              "      <td>0.083770</td>\n",
              "      <td>0.262295</td>\n",
              "      <td>0.832899</td>\n",
              "      <td>0.007812</td>\n",
              "      <td>4.210938</td>\n",
              "      <td>4.203125</td>\n",
              "      <td>0.161929</td>\n",
              "      <td>female</td>\n",
              "    </tr>\n",
              "    <tr>\n",
              "      <th>3164</th>\n",
              "      <td>0.116221</td>\n",
              "      <td>0.089221</td>\n",
              "      <td>0.076758</td>\n",
              "      <td>0.042718</td>\n",
              "      <td>0.204911</td>\n",
              "      <td>0.162193</td>\n",
              "      <td>0.693730</td>\n",
              "      <td>2.503954</td>\n",
              "      <td>0.960716</td>\n",
              "      <td>0.709570</td>\n",
              "      <td>...</td>\n",
              "      <td>0.116221</td>\n",
              "      <td>0.188980</td>\n",
              "      <td>0.034409</td>\n",
              "      <td>0.275862</td>\n",
              "      <td>0.909856</td>\n",
              "      <td>0.039062</td>\n",
              "      <td>3.679688</td>\n",
              "      <td>3.640625</td>\n",
              "      <td>0.277897</td>\n",
              "      <td>female</td>\n",
              "    </tr>\n",
              "    <tr>\n",
              "      <th>3165</th>\n",
              "      <td>0.142056</td>\n",
              "      <td>0.095798</td>\n",
              "      <td>0.183731</td>\n",
              "      <td>0.033424</td>\n",
              "      <td>0.224360</td>\n",
              "      <td>0.190936</td>\n",
              "      <td>1.876502</td>\n",
              "      <td>6.604509</td>\n",
              "      <td>0.946854</td>\n",
              "      <td>0.654196</td>\n",
              "      <td>...</td>\n",
              "      <td>0.142056</td>\n",
              "      <td>0.209918</td>\n",
              "      <td>0.039506</td>\n",
              "      <td>0.275862</td>\n",
              "      <td>0.494271</td>\n",
              "      <td>0.007812</td>\n",
              "      <td>2.937500</td>\n",
              "      <td>2.929688</td>\n",
              "      <td>0.194759</td>\n",
              "      <td>female</td>\n",
              "    </tr>\n",
              "    <tr>\n",
              "      <th>3166</th>\n",
              "      <td>0.143659</td>\n",
              "      <td>0.090628</td>\n",
              "      <td>0.184976</td>\n",
              "      <td>0.043508</td>\n",
              "      <td>0.219943</td>\n",
              "      <td>0.176435</td>\n",
              "      <td>1.591065</td>\n",
              "      <td>5.388298</td>\n",
              "      <td>0.950436</td>\n",
              "      <td>0.675470</td>\n",
              "      <td>...</td>\n",
              "      <td>0.143659</td>\n",
              "      <td>0.172375</td>\n",
              "      <td>0.034483</td>\n",
              "      <td>0.250000</td>\n",
              "      <td>0.791360</td>\n",
              "      <td>0.007812</td>\n",
              "      <td>3.593750</td>\n",
              "      <td>3.585938</td>\n",
              "      <td>0.311002</td>\n",
              "      <td>female</td>\n",
              "    </tr>\n",
              "    <tr>\n",
              "      <th>3167</th>\n",
              "      <td>0.165509</td>\n",
              "      <td>0.092884</td>\n",
              "      <td>0.183044</td>\n",
              "      <td>0.070072</td>\n",
              "      <td>0.250827</td>\n",
              "      <td>0.180756</td>\n",
              "      <td>1.705029</td>\n",
              "      <td>5.769115</td>\n",
              "      <td>0.938829</td>\n",
              "      <td>0.601529</td>\n",
              "      <td>...</td>\n",
              "      <td>0.165509</td>\n",
              "      <td>0.185607</td>\n",
              "      <td>0.062257</td>\n",
              "      <td>0.271186</td>\n",
              "      <td>0.227022</td>\n",
              "      <td>0.007812</td>\n",
              "      <td>0.554688</td>\n",
              "      <td>0.546875</td>\n",
              "      <td>0.350000</td>\n",
              "      <td>female</td>\n",
              "    </tr>\n",
              "  </tbody>\n",
              "</table>\n",
              "<p>5 rows × 21 columns</p>\n",
              "</div>\n",
              "      <button class=\"colab-df-convert\" onclick=\"convertToInteractive('df-422362d5-4f25-4c74-b525-bcf94fd439d2')\"\n",
              "              title=\"Convert this dataframe to an interactive table.\"\n",
              "              style=\"display:none;\">\n",
              "        \n",
              "  <svg xmlns=\"http://www.w3.org/2000/svg\" height=\"24px\"viewBox=\"0 0 24 24\"\n",
              "       width=\"24px\">\n",
              "    <path d=\"M0 0h24v24H0V0z\" fill=\"none\"/>\n",
              "    <path d=\"M18.56 5.44l.94 2.06.94-2.06 2.06-.94-2.06-.94-.94-2.06-.94 2.06-2.06.94zm-11 1L8.5 8.5l.94-2.06 2.06-.94-2.06-.94L8.5 2.5l-.94 2.06-2.06.94zm10 10l.94 2.06.94-2.06 2.06-.94-2.06-.94-.94-2.06-.94 2.06-2.06.94z\"/><path d=\"M17.41 7.96l-1.37-1.37c-.4-.4-.92-.59-1.43-.59-.52 0-1.04.2-1.43.59L10.3 9.45l-7.72 7.72c-.78.78-.78 2.05 0 2.83L4 21.41c.39.39.9.59 1.41.59.51 0 1.02-.2 1.41-.59l7.78-7.78 2.81-2.81c.8-.78.8-2.07 0-2.86zM5.41 20L4 18.59l7.72-7.72 1.47 1.35L5.41 20z\"/>\n",
              "  </svg>\n",
              "      </button>\n",
              "      \n",
              "  <style>\n",
              "    .colab-df-container {\n",
              "      display:flex;\n",
              "      flex-wrap:wrap;\n",
              "      gap: 12px;\n",
              "    }\n",
              "\n",
              "    .colab-df-convert {\n",
              "      background-color: #E8F0FE;\n",
              "      border: none;\n",
              "      border-radius: 50%;\n",
              "      cursor: pointer;\n",
              "      display: none;\n",
              "      fill: #1967D2;\n",
              "      height: 32px;\n",
              "      padding: 0 0 0 0;\n",
              "      width: 32px;\n",
              "    }\n",
              "\n",
              "    .colab-df-convert:hover {\n",
              "      background-color: #E2EBFA;\n",
              "      box-shadow: 0px 1px 2px rgba(60, 64, 67, 0.3), 0px 1px 3px 1px rgba(60, 64, 67, 0.15);\n",
              "      fill: #174EA6;\n",
              "    }\n",
              "\n",
              "    [theme=dark] .colab-df-convert {\n",
              "      background-color: #3B4455;\n",
              "      fill: #D2E3FC;\n",
              "    }\n",
              "\n",
              "    [theme=dark] .colab-df-convert:hover {\n",
              "      background-color: #434B5C;\n",
              "      box-shadow: 0px 1px 3px 1px rgba(0, 0, 0, 0.15);\n",
              "      filter: drop-shadow(0px 1px 2px rgba(0, 0, 0, 0.3));\n",
              "      fill: #FFFFFF;\n",
              "    }\n",
              "  </style>\n",
              "\n",
              "      <script>\n",
              "        const buttonEl =\n",
              "          document.querySelector('#df-422362d5-4f25-4c74-b525-bcf94fd439d2 button.colab-df-convert');\n",
              "        buttonEl.style.display =\n",
              "          google.colab.kernel.accessAllowed ? 'block' : 'none';\n",
              "\n",
              "        async function convertToInteractive(key) {\n",
              "          const element = document.querySelector('#df-422362d5-4f25-4c74-b525-bcf94fd439d2');\n",
              "          const dataTable =\n",
              "            await google.colab.kernel.invokeFunction('convertToInteractive',\n",
              "                                                     [key], {});\n",
              "          if (!dataTable) return;\n",
              "\n",
              "          const docLinkHtml = 'Like what you see? Visit the ' +\n",
              "            '<a target=\"_blank\" href=https://colab.research.google.com/notebooks/data_table.ipynb>data table notebook</a>'\n",
              "            + ' to learn more about interactive tables.';\n",
              "          element.innerHTML = '';\n",
              "          dataTable['output_type'] = 'display_data';\n",
              "          await google.colab.output.renderOutput(dataTable, element);\n",
              "          const docLink = document.createElement('div');\n",
              "          docLink.innerHTML = docLinkHtml;\n",
              "          element.appendChild(docLink);\n",
              "        }\n",
              "      </script>\n",
              "    </div>\n",
              "  </div>\n",
              "  "
            ]
          },
          "metadata": {},
          "execution_count": 29
        }
      ]
    },
    {
      "cell_type": "code",
      "source": [
        "#different attributes\n",
        "print(df.columns,end=\" \")"
      ],
      "metadata": {
        "colab": {
          "base_uri": "https://localhost:8080/"
        },
        "id": "muCPiL3gvpto",
        "outputId": "b9795555-13bd-451d-f67b-527402bb0775"
      },
      "execution_count": null,
      "outputs": [
        {
          "output_type": "stream",
          "name": "stdout",
          "text": [
            "Index(['meanfreq', 'sd', 'median', 'Q25', 'Q75', 'IQR', 'skew', 'kurt',\n",
            "       'sp.ent', 'sfm', 'mode', 'centroid', 'meanfun', 'minfun', 'maxfun',\n",
            "       'meandom', 'mindom', 'maxdom', 'dfrange', 'modindx', 'label'],\n",
            "      dtype='object') "
          ]
        }
      ]
    },
    {
      "cell_type": "markdown",
      "source": [
        "#remove/handle null values (if any)"
      ],
      "metadata": {
        "id": "ybcx6d7AwXFw"
      }
    },
    {
      "cell_type": "code",
      "source": [
        "df.isnull().sum()"
      ],
      "metadata": {
        "colab": {
          "base_uri": "https://localhost:8080/"
        },
        "id": "fIj7emnDyW9T",
        "outputId": "7a077d92-794a-4df9-8037-72da9dd4fc59"
      },
      "execution_count": null,
      "outputs": [
        {
          "output_type": "execute_result",
          "data": {
            "text/plain": [
              "meanfreq    0\n",
              "sd          0\n",
              "median      0\n",
              "Q25         0\n",
              "Q75         0\n",
              "IQR         0\n",
              "skew        0\n",
              "kurt        0\n",
              "sp.ent      0\n",
              "sfm         0\n",
              "mode        0\n",
              "centroid    0\n",
              "meanfun     0\n",
              "minfun      0\n",
              "maxfun      0\n",
              "meandom     0\n",
              "mindom      0\n",
              "maxdom      0\n",
              "dfrange     0\n",
              "modindx     0\n",
              "label       0\n",
              "dtype: int64"
            ]
          },
          "metadata": {},
          "execution_count": 31
        }
      ]
    },
    {
      "cell_type": "code",
      "source": [
        "df.info() #info about each attributes"
      ],
      "metadata": {
        "colab": {
          "base_uri": "https://localhost:8080/"
        },
        "id": "94cv5WENyqyH",
        "outputId": "f4c03a8c-cbd9-42d5-ecb8-a11392a78a52"
      },
      "execution_count": null,
      "outputs": [
        {
          "output_type": "stream",
          "name": "stdout",
          "text": [
            "<class 'pandas.core.frame.DataFrame'>\n",
            "RangeIndex: 3168 entries, 0 to 3167\n",
            "Data columns (total 21 columns):\n",
            " #   Column    Non-Null Count  Dtype  \n",
            "---  ------    --------------  -----  \n",
            " 0   meanfreq  3168 non-null   float64\n",
            " 1   sd        3168 non-null   float64\n",
            " 2   median    3168 non-null   float64\n",
            " 3   Q25       3168 non-null   float64\n",
            " 4   Q75       3168 non-null   float64\n",
            " 5   IQR       3168 non-null   float64\n",
            " 6   skew      3168 non-null   float64\n",
            " 7   kurt      3168 non-null   float64\n",
            " 8   sp.ent    3168 non-null   float64\n",
            " 9   sfm       3168 non-null   float64\n",
            " 10  mode      3168 non-null   float64\n",
            " 11  centroid  3168 non-null   float64\n",
            " 12  meanfun   3168 non-null   float64\n",
            " 13  minfun    3168 non-null   float64\n",
            " 14  maxfun    3168 non-null   float64\n",
            " 15  meandom   3168 non-null   float64\n",
            " 16  mindom    3168 non-null   float64\n",
            " 17  maxdom    3168 non-null   float64\n",
            " 18  dfrange   3168 non-null   float64\n",
            " 19  modindx   3168 non-null   float64\n",
            " 20  label     3168 non-null   object \n",
            "dtypes: float64(20), object(1)\n",
            "memory usage: 519.9+ KB\n"
          ]
        }
      ]
    },
    {
      "cell_type": "code",
      "source": [
        "print(\"total:\",df.label.count())"
      ],
      "metadata": {
        "colab": {
          "base_uri": "https://localhost:8080/"
        },
        "id": "TmKPNt7s06L3",
        "outputId": "a24bbec3-fabf-4ad1-ce83-0be26b05e7f1"
      },
      "execution_count": null,
      "outputs": [
        {
          "output_type": "stream",
          "name": "stdout",
          "text": [
            "total: 3168\n"
          ]
        }
      ]
    },
    {
      "cell_type": "code",
      "source": [
        "#Data Insight And  Adding Label To Male/Female\n",
        "a=df.label.value_counts()\n",
        "print(a)"
      ],
      "metadata": {
        "colab": {
          "base_uri": "https://localhost:8080/"
        },
        "id": "MpynukWLzN44",
        "outputId": "6f207606-cb23-4522-eee9-c2fae75fcc91"
      },
      "execution_count": null,
      "outputs": [
        {
          "output_type": "stream",
          "name": "stdout",
          "text": [
            "male      1584\n",
            "female    1584\n",
            "Name: label, dtype: int64\n"
          ]
        }
      ]
    },
    {
      "cell_type": "markdown",
      "source": [
        "#Depict Percentage distribution of label on a pie chart"
      ],
      "metadata": {
        "id": "OShaTERiFABn"
      }
    },
    {
      "cell_type": "code",
      "source": [
        "from matplotlib import pyplot as plt\n",
        "import numpy as np\n",
        "#creating dataset\n",
        "gender=['male','female']\n",
        "data=[1584,1584]\n",
        "#creating plot\n",
        "fig=plt.figure(figsize=(10,7))\n",
        "plt.pie(data,labels=gender,colors=None)\n",
        "plt.title('gender distribution')\n",
        "#show plot\n",
        "plt.show()\n"
      ],
      "metadata": {
        "colab": {
          "base_uri": "https://localhost:8080/",
          "height": 427
        },
        "id": "478Zz9yzE6Xt",
        "outputId": "3782458f-bb4b-48b9-eb82-b14cb990c036"
      },
      "execution_count": null,
      "outputs": [
        {
          "output_type": "display_data",
          "data": {
            "text/plain": [
              "<Figure size 720x504 with 1 Axes>"
            ],
            "image/png": "[encoded data removed]"
          },
          "metadata": {}
        }
      ]
    },
    {
      "cell_type": "code",
      "source": [
        "df.corr()"
      ],
      "metadata": {
        "colab": {
          "base_uri": "https://localhost:8080/",
          "height": 740
        },
        "id": "IDiWnMvo1ON2",
        "outputId": "a8560b51-7c78-4d87-ee21-6592dc23db1a"
      },
      "execution_count": null,
      "outputs": [
        {
          "output_type": "execute_result",
          "data": {
            "text/plain": [
              "          meanfreq        sd    median       Q25       Q75       IQR  \\\n",
              "meanfreq  1.000000 -0.739039  0.925445  0.911416  0.740997 -0.627605   \n",
              "sd       -0.739039  1.000000 -0.562603 -0.846931 -0.161076  0.874660   \n",
              "median    0.925445 -0.562603  1.000000  0.774922  0.731849 -0.477352   \n",
              "Q25       0.911416 -0.846931  0.774922  1.000000  0.477140 -0.874189   \n",
              "Q75       0.740997 -0.161076  0.731849  0.477140  1.000000  0.009636   \n",
              "IQR      -0.627605  0.874660 -0.477352 -0.874189  0.009636  1.000000   \n",
              "skew     -0.322327  0.314597 -0.257407 -0.319475 -0.206339  0.249497   \n",
              "kurt     -0.316036  0.346241 -0.243382 -0.350182 -0.148881  0.316185   \n",
              "sp.ent   -0.601203  0.716620 -0.502005 -0.648126 -0.174905  0.640813   \n",
              "sfm      -0.784332  0.838086 -0.661690 -0.766875 -0.378198  0.663601   \n",
              "mode      0.687715 -0.529150  0.677433  0.591277  0.486857 -0.403764   \n",
              "centroid  1.000000 -0.739039  0.925445  0.911416  0.740997 -0.627605   \n",
              "meanfun   0.460844 -0.466281  0.414909  0.545035  0.155091 -0.534462   \n",
              "minfun    0.383937 -0.345609  0.337602  0.320994  0.258002 -0.222680   \n",
              "maxfun    0.274004 -0.129662  0.251328  0.199841  0.285584 -0.069588   \n",
              "meandom   0.536666 -0.482726  0.455943  0.467403  0.359181 -0.333362   \n",
              "mindom    0.229261 -0.357667  0.191169  0.302255 -0.023750 -0.357037   \n",
              "maxdom    0.519528 -0.482278  0.438919  0.459683  0.335114 -0.337877   \n",
              "dfrange   0.515570 -0.475999  0.435621  0.454394  0.335648 -0.331563   \n",
              "modindx  -0.216979  0.122660 -0.213298 -0.141377 -0.216475  0.041252   \n",
              "\n",
              "              skew      kurt    sp.ent       sfm      mode  centroid  \\\n",
              "meanfreq -0.322327 -0.316036 -0.601203 -0.784332  0.687715  1.000000   \n",
              "sd        0.314597  0.346241  0.716620  0.838086 -0.529150 -0.739039   \n",
              "median   -0.257407 -0.243382 -0.502005 -0.661690  0.677433  0.925445   \n",
              "Q25      -0.319475 -0.350182 -0.648126 -0.766875  0.591277  0.911416   \n",
              "Q75      -0.206339 -0.148881 -0.174905 -0.378198  0.486857  0.740997   \n",
              "IQR       0.249497  0.316185  0.640813  0.663601 -0.403764 -0.627605   \n",
              "skew      1.000000  0.977020 -0.195459  0.079694 -0.434859 -0.322327   \n",
              "kurt      0.977020  1.000000 -0.127644  0.109884 -0.406722 -0.316036   \n",
              "sp.ent   -0.195459 -0.127644  1.000000  0.866411 -0.325298 -0.601203   \n",
              "sfm       0.079694  0.109884  0.866411  1.000000 -0.485913 -0.784332   \n",
              "mode     -0.434859 -0.406722 -0.325298 -0.485913  1.000000  0.687715   \n",
              "centroid -0.322327 -0.316036 -0.601203 -0.784332  0.687715  1.000000   \n",
              "meanfun  -0.167668 -0.194560 -0.513194 -0.421066  0.324771  0.460844   \n",
              "minfun   -0.216954 -0.203201 -0.305826 -0.362100  0.385467  0.383937   \n",
              "maxfun   -0.080861 -0.045667 -0.120738 -0.192369  0.172329  0.274004   \n",
              "meandom  -0.336848 -0.303234 -0.293562 -0.428442  0.491479  0.536666   \n",
              "mindom   -0.061608 -0.103313 -0.294869 -0.289593  0.198150  0.229261   \n",
              "maxdom   -0.305651 -0.274500 -0.324253 -0.436649  0.477187  0.519528   \n",
              "dfrange  -0.304640 -0.272729 -0.319054 -0.431580  0.473775  0.515570   \n",
              "modindx  -0.169325 -0.205539  0.198074  0.211477 -0.182344 -0.216979   \n",
              "\n",
              "           meanfun    minfun    maxfun   meandom    mindom    maxdom  \\\n",
              "meanfreq  0.460844  0.383937  0.274004  0.536666  0.229261  0.519528   \n",
              "sd       -0.466281 -0.345609 -0.129662 -0.482726 -0.357667 -0.482278   \n",
              "median    0.414909  0.337602  0.251328  0.455943  0.191169  0.438919   \n",
              "Q25       0.545035  0.320994  0.199841  0.467403  0.302255  0.459683   \n",
              "Q75       0.155091  0.258002  0.285584  0.359181 -0.023750  0.335114   \n",
              "IQR      -0.534462 -0.222680 -0.069588 -0.333362 -0.357037 -0.337877   \n",
              "skew     -0.167668 -0.216954 -0.080861 -0.336848 -0.061608 -0.305651   \n",
              "kurt     -0.194560 -0.203201 -0.045667 -0.303234 -0.103313 -0.274500   \n",
              "sp.ent   -0.513194 -0.305826 -0.120738 -0.293562 -0.294869 -0.324253   \n",
              "sfm      -0.421066 -0.362100 -0.192369 -0.428442 -0.289593 -0.436649   \n",
              "mode      0.324771  0.385467  0.172329  0.491479  0.198150  0.477187   \n",
              "centroid  0.460844  0.383937  0.274004  0.536666  0.229261  0.519528   \n",
              "meanfun   1.000000  0.339387  0.311950  0.270840  0.162163  0.277982   \n",
              "minfun    0.339387  1.000000  0.213987  0.375979  0.082015  0.317860   \n",
              "maxfun    0.311950  0.213987  1.000000  0.337553 -0.243426  0.355390   \n",
              "meandom   0.270840  0.375979  0.337553  1.000000  0.099656  0.812838   \n",
              "mindom    0.162163  0.082015 -0.243426  0.099656  1.000000  0.026640   \n",
              "maxdom    0.277982  0.317860  0.355390  0.812838  0.026640  1.000000   \n",
              "dfrange   0.275154  0.316486  0.359880  0.811304  0.008666  0.999838   \n",
              "modindx  -0.054858  0.002042 -0.363029 -0.180954  0.200212 -0.425531   \n",
              "\n",
              "           dfrange   modindx  \n",
              "meanfreq  0.515570 -0.216979  \n",
              "sd       -0.475999  0.122660  \n",
              "median    0.435621 -0.213298  \n",
              "Q25       0.454394 -0.141377  \n",
              "Q75       0.335648 -0.216475  \n",
              "IQR      -0.331563  0.041252  \n",
              "skew     -0.304640 -0.169325  \n",
              "kurt     -0.272729 -0.205539  \n",
              "sp.ent   -0.319054  0.198074  \n",
              "sfm      -0.431580  0.211477  \n",
              "mode      0.473775 -0.182344  \n",
              "centroid  0.515570 -0.216979  \n",
              "meanfun   0.275154 -0.054858  \n",
              "minfun    0.316486  0.002042  \n",
              "maxfun    0.359880 -0.363029  \n",
              "meandom   0.811304 -0.180954  \n",
              "mindom    0.008666  0.200212  \n",
              "maxdom    0.999838 -0.425531  \n",
              "dfrange   1.000000 -0.429266  \n",
              "modindx  -0.429266  1.000000  "
            ],
            "text/html": [
              "\n",
              "  <div id=\"df-3fc272c5-c9a2-4e65-80b7-2fdfbeb4b4e9\">\n",
              "    <div class=\"colab-df-container\">\n",
              "      <div>\n",
              "<style scoped>\n",
              "    .dataframe tbody tr th:only-of-type {\n",
              "        vertical-align: middle;\n",
              "    }\n",
              "\n",
              "    .dataframe tbody tr th {\n",
              "        vertical-align: top;\n",
              "    }\n",
              "\n",
              "    .dataframe thead th {\n",
              "        text-align: right;\n",
              "    }\n",
              "</style>\n",
              "<table border=\"1\" class=\"dataframe\">\n",
              "  <thead>\n",
              "    <tr style=\"text-align: right;\">\n",
              "      <th></th>\n",
              "      <th>meanfreq</th>\n",
              "      <th>sd</th>\n",
              "      <th>median</th>\n",
              "      <th>Q25</th>\n",
              "      <th>Q75</th>\n",
              "      <th>IQR</th>\n",
              "      <th>skew</th>\n",
              "      <th>kurt</th>\n",
              "      <th>sp.ent</th>\n",
              "      <th>sfm</th>\n",
              "      <th>mode</th>\n",
              "      <th>centroid</th>\n",
              "      <th>meanfun</th>\n",
              "      <th>minfun</th>\n",
              "      <th>maxfun</th>\n",
              "      <th>meandom</th>\n",
              "      <th>mindom</th>\n",
              "      <th>maxdom</th>\n",
              "      <th>dfrange</th>\n",
              "      <th>modindx</th>\n",
              "    </tr>\n",
              "  </thead>\n",
              "  <tbody>\n",
              "    <tr>\n",
              "      <th>meanfreq</th>\n",
              "      <td>1.000000</td>\n",
              "      <td>-0.739039</td>\n",
              "      <td>0.925445</td>\n",
              "      <td>0.911416</td>\n",
              "      <td>0.740997</td>\n",
              "      <td>-0.627605</td>\n",
              "      <td>-0.322327</td>\n",
              "      <td>-0.316036</td>\n",
              "      <td>-0.601203</td>\n",
              "      <td>-0.784332</td>\n",
              "      <td>0.687715</td>\n",
              "      <td>1.000000</td>\n",
              "      <td>0.460844</td>\n",
              "      <td>0.383937</td>\n",
              "      <td>0.274004</td>\n",
              "      <td>0.536666</td>\n",
              "      <td>0.229261</td>\n",
              "      <td>0.519528</td>\n",
              "      <td>0.515570</td>\n",
              "      <td>-0.216979</td>\n",
              "    </tr>\n",
              "    <tr>\n",
              "      <th>sd</th>\n",
              "      <td>-0.739039</td>\n",
              "      <td>1.000000</td>\n",
              "      <td>-0.562603</td>\n",
              "      <td>-0.846931</td>\n",
              "      <td>-0.161076</td>\n",
              "      <td>0.874660</td>\n",
              "      <td>0.314597</td>\n",
              "      <td>0.346241</td>\n",
              "      <td>0.716620</td>\n",
              "      <td>0.838086</td>\n",
              "      <td>-0.529150</td>\n",
              "      <td>-0.739039</td>\n",
              "      <td>-0.466281</td>\n",
              "      <td>-0.345609</td>\n",
              "      <td>-0.129662</td>\n",
              "      <td>-0.482726</td>\n",
              "      <td>-0.357667</td>\n",
              "      <td>-0.482278</td>\n",
              "      <td>-0.475999</td>\n",
              "      <td>0.122660</td>\n",
              "    </tr>\n",
              "    <tr>\n",
              "      <th>median</th>\n",
              "      <td>0.925445</td>\n",
              "      <td>-0.562603</td>\n",
              "      <td>1.000000</td>\n",
              "      <td>0.774922</td>\n",
              "      <td>0.731849</td>\n",
              "      <td>-0.477352</td>\n",
              "      <td>-0.257407</td>\n",
              "      <td>-0.243382</td>\n",
              "      <td>-0.502005</td>\n",
              "      <td>-0.661690</td>\n",
              "      <td>0.677433</td>\n",
              "      <td>0.925445</td>\n",
              "      <td>0.414909</td>\n",
              "      <td>0.337602</td>\n",
              "      <td>0.251328</td>\n",
              "      <td>0.455943</td>\n",
              "      <td>0.191169</td>\n",
              "      <td>0.438919</td>\n",
              "      <td>0.435621</td>\n",
              "      <td>-0.213298</td>\n",
              "    </tr>\n",
              "    <tr>\n",
              "      <th>Q25</th>\n",
              "      <td>0.911416</td>\n",
              "      <td>-0.846931</td>\n",
              "      <td>0.774922</td>\n",
              "      <td>1.000000</td>\n",
              "      <td>0.477140</td>\n",
              "      <td>-0.874189</td>\n",
              "      <td>-0.319475</td>\n",
              "      <td>-0.350182</td>\n",
              "      <td>-0.648126</td>\n",
              "      <td>-0.766875</td>\n",
              "      <td>0.591277</td>\n",
              "      <td>0.911416</td>\n",
              "      <td>0.545035</td>\n",
              "      <td>0.320994</td>\n",
              "      <td>0.199841</td>\n",
              "      <td>0.467403</td>\n",
              "      <td>0.302255</td>\n",
              "      <td>0.459683</td>\n",
              "      <td>0.454394</td>\n",
              "      <td>-0.141377</td>\n",
              "    </tr>\n",
              "    <tr>\n",
              "      <th>Q75</th>\n",
              "      <td>0.740997</td>\n",
              "      <td>-0.161076</td>\n",
              "      <td>0.731849</td>\n",
              "      <td>0.477140</td>\n",
              "      <td>1.000000</td>\n",
              "      <td>0.009636</td>\n",
              "      <td>-0.206339</td>\n",
              "      <td>-0.148881</td>\n",
              "      <td>-0.174905</td>\n",
              "      <td>-0.378198</td>\n",
              "      <td>0.486857</td>\n",
              "      <td>0.740997</td>\n",
              "      <td>0.155091</td>\n",
              "      <td>0.258002</td>\n",
              "      <td>0.285584</td>\n",
              "      <td>0.359181</td>\n",
              "      <td>-0.023750</td>\n",
              "      <td>0.335114</td>\n",
              "      <td>0.335648</td>\n",
              "      <td>-0.216475</td>\n",
              "    </tr>\n",
              "    <tr>\n",
              "      <th>IQR</th>\n",
              "      <td>-0.627605</td>\n",
              "      <td>0.874660</td>\n",
              "      <td>-0.477352</td>\n",
              "      <td>-0.874189</td>\n",
              "      <td>0.009636</td>\n",
              "      <td>1.000000</td>\n",
              "      <td>0.249497</td>\n",
              "      <td>0.316185</td>\n",
              "      <td>0.640813</td>\n",
              "      <td>0.663601</td>\n",
              "      <td>-0.403764</td>\n",
              "      <td>-0.627605</td>\n",
              "      <td>-0.534462</td>\n",
              "      <td>-0.222680</td>\n",
              "      <td>-0.069588</td>\n",
              "      <td>-0.333362</td>\n",
              "      <td>-0.357037</td>\n",
              "      <td>-0.337877</td>\n",
              "      <td>-0.331563</td>\n",
              "      <td>0.041252</td>\n",
              "    </tr>\n",
              "    <tr>\n",
              "      <th>skew</th>\n",
              "      <td>-0.322327</td>\n",
              "      <td>0.314597</td>\n",
              "      <td>-0.257407</td>\n",
              "      <td>-0.319475</td>\n",
              "      <td>-0.206339</td>\n",
              "      <td>0.249497</td>\n",
              "      <td>1.000000</td>\n",
              "      <td>0.977020</td>\n",
              "      <td>-0.195459</td>\n",
              "      <td>0.079694</td>\n",
              "      <td>-0.434859</td>\n",
              "      <td>-0.322327</td>\n",
              "      <td>-0.167668</td>\n",
              "      <td>-0.216954</td>\n",
              "      <td>-0.080861</td>\n",
              "      <td>-0.336848</td>\n",
              "      <td>-0.061608</td>\n",
              "      <td>-0.305651</td>\n",
              "      <td>-0.304640</td>\n",
              "      <td>-0.169325</td>\n",
              "    </tr>\n",
              "    <tr>\n",
              "      <th>kurt</th>\n",
              "      <td>-0.316036</td>\n",
              "      <td>0.346241</td>\n",
              "      <td>-0.243382</td>\n",
              "      <td>-0.350182</td>\n",
              "      <td>-0.148881</td>\n",
              "      <td>0.316185</td>\n",
              "      <td>0.977020</td>\n",
              "      <td>1.000000</td>\n",
              "      <td>-0.127644</td>\n",
              "      <td>0.109884</td>\n",
              "      <td>-0.406722</td>\n",
              "      <td>-0.316036</td>\n",
              "      <td>-0.194560</td>\n",
              "      <td>-0.203201</td>\n",
              "      <td>-0.045667</td>\n",
              "      <td>-0.303234</td>\n",
              "      <td>-0.103313</td>\n",
              "      <td>-0.274500</td>\n",
              "      <td>-0.272729</td>\n",
              "      <td>-0.205539</td>\n",
              "    </tr>\n",
              "    <tr>\n",
              "      <th>sp.ent</th>\n",
              "      <td>-0.601203</td>\n",
              "      <td>0.716620</td>\n",
              "      <td>-0.502005</td>\n",
              "      <td>-0.648126</td>\n",
              "      <td>-0.174905</td>\n",
              "      <td>0.640813</td>\n",
              "      <td>-0.195459</td>\n",
              "      <td>-0.127644</td>\n",
              "      <td>1.000000</td>\n",
              "      <td>0.866411</td>\n",
              "      <td>-0.325298</td>\n",
              "      <td>-0.601203</td>\n",
              "      <td>-0.513194</td>\n",
              "      <td>-0.305826</td>\n",
              "      <td>-0.120738</td>\n",
              "      <td>-0.293562</td>\n",
              "      <td>-0.294869</td>\n",
              "      <td>-0.324253</td>\n",
              "      <td>-0.319054</td>\n",
              "      <td>0.198074</td>\n",
              "    </tr>\n",
              "    <tr>\n",
              "      <th>sfm</th>\n",
              "      <td>-0.784332</td>\n",
              "      <td>0.838086</td>\n",
              "      <td>-0.661690</td>\n",
              "      <td>-0.766875</td>\n",
              "      <td>-0.378198</td>\n",
              "      <td>0.663601</td>\n",
              "      <td>0.079694</td>\n",
              "      <td>0.109884</td>\n",
              "      <td>0.866411</td>\n",
              "      <td>1.000000</td>\n",
              "      <td>-0.485913</td>\n",
              "      <td>-0.784332</td>\n",
              "      <td>-0.421066</td>\n",
              "      <td>-0.362100</td>\n",
              "      <td>-0.192369</td>\n",
              "      <td>-0.428442</td>\n",
              "      <td>-0.289593</td>\n",
              "      <td>-0.436649</td>\n",
              "      <td>-0.431580</td>\n",
              "      <td>0.211477</td>\n",
              "    </tr>\n",
              "    <tr>\n",
              "      <th>mode</th>\n",
              "      <td>0.687715</td>\n",
              "      <td>-0.529150</td>\n",
              "      <td>0.677433</td>\n",
              "      <td>0.591277</td>\n",
              "      <td>0.486857</td>\n",
              "      <td>-0.403764</td>\n",
              "      <td>-0.434859</td>\n",
              "      <td>-0.406722</td>\n",
              "      <td>-0.325298</td>\n",
              "      <td>-0.485913</td>\n",
              "      <td>1.000000</td>\n",
              "      <td>0.687715</td>\n",
              "      <td>0.324771</td>\n",
              "      <td>0.385467</td>\n",
              "      <td>0.172329</td>\n",
              "      <td>0.491479</td>\n",
              "      <td>0.198150</td>\n",
              "      <td>0.477187</td>\n",
              "      <td>0.473775</td>\n",
              "      <td>-0.182344</td>\n",
              "    </tr>\n",
              "    <tr>\n",
              "      <th>centroid</th>\n",
              "      <td>1.000000</td>\n",
              "      <td>-0.739039</td>\n",
              "      <td>0.925445</td>\n",
              "      <td>0.911416</td>\n",
              "      <td>0.740997</td>\n",
              "      <td>-0.627605</td>\n",
              "      <td>-0.322327</td>\n",
              "      <td>-0.316036</td>\n",
              "      <td>-0.601203</td>\n",
              "      <td>-0.784332</td>\n",
              "      <td>0.687715</td>\n",
              "      <td>1.000000</td>\n",
              "      <td>0.460844</td>\n",
              "      <td>0.383937</td>\n",
              "      <td>0.274004</td>\n",
              "      <td>0.536666</td>\n",
              "      <td>0.229261</td>\n",
              "      <td>0.519528</td>\n",
              "      <td>0.515570</td>\n",
              "      <td>-0.216979</td>\n",
              "    </tr>\n",
              "    <tr>\n",
              "      <th>meanfun</th>\n",
              "      <td>0.460844</td>\n",
              "      <td>-0.466281</td>\n",
              "      <td>0.414909</td>\n",
              "      <td>0.545035</td>\n",
              "      <td>0.155091</td>\n",
              "      <td>-0.534462</td>\n",
              "      <td>-0.167668</td>\n",
              "      <td>-0.194560</td>\n",
              "      <td>-0.513194</td>\n",
              "      <td>-0.421066</td>\n",
              "      <td>0.324771</td>\n",
              "      <td>0.460844</td>\n",
              "      <td>1.000000</td>\n",
              "      <td>0.339387</td>\n",
              "      <td>0.311950</td>\n",
              "      <td>0.270840</td>\n",
              "      <td>0.162163</td>\n",
              "      <td>0.277982</td>\n",
              "      <td>0.275154</td>\n",
              "      <td>-0.054858</td>\n",
              "    </tr>\n",
              "    <tr>\n",
              "      <th>minfun</th>\n",
              "      <td>0.383937</td>\n",
              "      <td>-0.345609</td>\n",
              "      <td>0.337602</td>\n",
              "      <td>0.320994</td>\n",
              "      <td>0.258002</td>\n",
              "      <td>-0.222680</td>\n",
              "      <td>-0.216954</td>\n",
              "      <td>-0.203201</td>\n",
              "      <td>-0.305826</td>\n",
              "      <td>-0.362100</td>\n",
              "      <td>0.385467</td>\n",
              "      <td>0.383937</td>\n",
              "      <td>0.339387</td>\n",
              "      <td>1.000000</td>\n",
              "      <td>0.213987</td>\n",
              "      <td>0.375979</td>\n",
              "      <td>0.082015</td>\n",
              "      <td>0.317860</td>\n",
              "      <td>0.316486</td>\n",
              "      <td>0.002042</td>\n",
              "    </tr>\n",
              "    <tr>\n",
              "      <th>maxfun</th>\n",
              "      <td>0.274004</td>\n",
              "      <td>-0.129662</td>\n",
              "      <td>0.251328</td>\n",
              "      <td>0.199841</td>\n",
              "      <td>0.285584</td>\n",
              "      <td>-0.069588</td>\n",
              "      <td>-0.080861</td>\n",
              "      <td>-0.045667</td>\n",
              "      <td>-0.120738</td>\n",
              "      <td>-0.192369</td>\n",
              "      <td>0.172329</td>\n",
              "      <td>0.274004</td>\n",
              "      <td>0.311950</td>\n",
              "      <td>0.213987</td>\n",
              "      <td>1.000000</td>\n",
              "      <td>0.337553</td>\n",
              "      <td>-0.243426</td>\n",
              "      <td>0.355390</td>\n",
              "      <td>0.359880</td>\n",
              "      <td>-0.363029</td>\n",
              "    </tr>\n",
              "    <tr>\n",
              "      <th>meandom</th>\n",
              "      <td>0.536666</td>\n",
              "      <td>-0.482726</td>\n",
              "      <td>0.455943</td>\n",
              "      <td>0.467403</td>\n",
              "      <td>0.359181</td>\n",
              "      <td>-0.333362</td>\n",
              "      <td>-0.336848</td>\n",
              "      <td>-0.303234</td>\n",
              "      <td>-0.293562</td>\n",
              "      <td>-0.428442</td>\n",
              "      <td>0.491479</td>\n",
              "      <td>0.536666</td>\n",
              "      <td>0.270840</td>\n",
              "      <td>0.375979</td>\n",
              "      <td>0.337553</td>\n",
              "      <td>1.000000</td>\n",
              "      <td>0.099656</td>\n",
              "      <td>0.812838</td>\n",
              "      <td>0.811304</td>\n",
              "      <td>-0.180954</td>\n",
              "    </tr>\n",
              "    <tr>\n",
              "      <th>mindom</th>\n",
              "      <td>0.229261</td>\n",
              "      <td>-0.357667</td>\n",
              "      <td>0.191169</td>\n",
              "      <td>0.302255</td>\n",
              "      <td>-0.023750</td>\n",
              "      <td>-0.357037</td>\n",
              "      <td>-0.061608</td>\n",
              "      <td>-0.103313</td>\n",
              "      <td>-0.294869</td>\n",
              "      <td>-0.289593</td>\n",
              "      <td>0.198150</td>\n",
              "      <td>0.229261</td>\n",
              "      <td>0.162163</td>\n",
              "      <td>0.082015</td>\n",
              "      <td>-0.243426</td>\n",
              "      <td>0.099656</td>\n",
              "      <td>1.000000</td>\n",
              "      <td>0.026640</td>\n",
              "      <td>0.008666</td>\n",
              "      <td>0.200212</td>\n",
              "    </tr>\n",
              "    <tr>\n",
              "      <th>maxdom</th>\n",
              "      <td>0.519528</td>\n",
              "      <td>-0.482278</td>\n",
              "      <td>0.438919</td>\n",
              "      <td>0.459683</td>\n",
              "      <td>0.335114</td>\n",
              "      <td>-0.337877</td>\n",
              "      <td>-0.305651</td>\n",
              "      <td>-0.274500</td>\n",
              "      <td>-0.324253</td>\n",
              "      <td>-0.436649</td>\n",
              "      <td>0.477187</td>\n",
              "      <td>0.519528</td>\n",
              "      <td>0.277982</td>\n",
              "      <td>0.317860</td>\n",
              "      <td>0.355390</td>\n",
              "      <td>0.812838</td>\n",
              "      <td>0.026640</td>\n",
              "      <td>1.000000</td>\n",
              "      <td>0.999838</td>\n",
              "      <td>-0.425531</td>\n",
              "    </tr>\n",
              "    <tr>\n",
              "      <th>dfrange</th>\n",
              "      <td>0.515570</td>\n",
              "      <td>-0.475999</td>\n",
              "      <td>0.435621</td>\n",
              "      <td>0.454394</td>\n",
              "      <td>0.335648</td>\n",
              "      <td>-0.331563</td>\n",
              "      <td>-0.304640</td>\n",
              "      <td>-0.272729</td>\n",
              "      <td>-0.319054</td>\n",
              "      <td>-0.431580</td>\n",
              "      <td>0.473775</td>\n",
              "      <td>0.515570</td>\n",
              "      <td>0.275154</td>\n",
              "      <td>0.316486</td>\n",
              "      <td>0.359880</td>\n",
              "      <td>0.811304</td>\n",
              "      <td>0.008666</td>\n",
              "      <td>0.999838</td>\n",
              "      <td>1.000000</td>\n",
              "      <td>-0.429266</td>\n",
              "    </tr>\n",
              "    <tr>\n",
              "      <th>modindx</th>\n",
              "      <td>-0.216979</td>\n",
              "      <td>0.122660</td>\n",
              "      <td>-0.213298</td>\n",
              "      <td>-0.141377</td>\n",
              "      <td>-0.216475</td>\n",
              "      <td>0.041252</td>\n",
              "      <td>-0.169325</td>\n",
              "      <td>-0.205539</td>\n",
              "      <td>0.198074</td>\n",
              "      <td>0.211477</td>\n",
              "      <td>-0.182344</td>\n",
              "      <td>-0.216979</td>\n",
              "      <td>-0.054858</td>\n",
              "      <td>0.002042</td>\n",
              "      <td>-0.363029</td>\n",
              "      <td>-0.180954</td>\n",
              "      <td>0.200212</td>\n",
              "      <td>-0.425531</td>\n",
              "      <td>-0.429266</td>\n",
              "      <td>1.000000</td>\n",
              "    </tr>\n",
              "  </tbody>\n",
              "</table>\n",
              "</div>\n",
              "      <button class=\"colab-df-convert\" onclick=\"convertToInteractive('df-3fc272c5-c9a2-4e65-80b7-2fdfbeb4b4e9')\"\n",
              "              title=\"Convert this dataframe to an interactive table.\"\n",
              "              style=\"display:none;\">\n",
              "        \n",
              "  <svg xmlns=\"http://www.w3.org/2000/svg\" height=\"24px\"viewBox=\"0 0 24 24\"\n",
              "       width=\"24px\">\n",
              "    <path d=\"M0 0h24v24H0V0z\" fill=\"none\"/>\n",
              "    <path d=\"M18.56 5.44l.94 2.06.94-2.06 2.06-.94-2.06-.94-.94-2.06-.94 2.06-2.06.94zm-11 1L8.5 8.5l.94-2.06 2.06-.94-2.06-.94L8.5 2.5l-.94 2.06-2.06.94zm10 10l.94 2.06.94-2.06 2.06-.94-2.06-.94-.94-2.06-.94 2.06-2.06.94z\"/><path d=\"M17.41 7.96l-1.37-1.37c-.4-.4-.92-.59-1.43-.59-.52 0-1.04.2-1.43.59L10.3 9.45l-7.72 7.72c-.78.78-.78 2.05 0 2.83L4 21.41c.39.39.9.59 1.41.59.51 0 1.02-.2 1.41-.59l7.78-7.78 2.81-2.81c.8-.78.8-2.07 0-2.86zM5.41 20L4 18.59l7.72-7.72 1.47 1.35L5.41 20z\"/>\n",
              "  </svg>\n",
              "      </button>\n",
              "      \n",
              "  <style>\n",
              "    .colab-df-container {\n",
              "      display:flex;\n",
              "      flex-wrap:wrap;\n",
              "      gap: 12px;\n",
              "    }\n",
              "\n",
              "    .colab-df-convert {\n",
              "      background-color: #E8F0FE;\n",
              "      border: none;\n",
              "      border-radius: 50%;\n",
              "      cursor: pointer;\n",
              "      display: none;\n",
              "      fill: #1967D2;\n",
              "      height: 32px;\n",
              "      padding: 0 0 0 0;\n",
              "      width: 32px;\n",
              "    }\n",
              "\n",
              "    .colab-df-convert:hover {\n",
              "      background-color: #E2EBFA;\n",
              "      box-shadow: 0px 1px 2px rgba(60, 64, 67, 0.3), 0px 1px 3px 1px rgba(60, 64, 67, 0.15);\n",
              "      fill: #174EA6;\n",
              "    }\n",
              "\n",
              "    [theme=dark] .colab-df-convert {\n",
              "      background-color: #3B4455;\n",
              "      fill: #D2E3FC;\n",
              "    }\n",
              "\n",
              "    [theme=dark] .colab-df-convert:hover {\n",
              "      background-color: #434B5C;\n",
              "      box-shadow: 0px 1px 3px 1px rgba(0, 0, 0, 0.15);\n",
              "      filter: drop-shadow(0px 1px 2px rgba(0, 0, 0, 0.3));\n",
              "      fill: #FFFFFF;\n",
              "    }\n",
              "  </style>\n",
              "\n",
              "      <script>\n",
              "        const buttonEl =\n",
              "          document.querySelector('#df-3fc272c5-c9a2-4e65-80b7-2fdfbeb4b4e9 button.colab-df-convert');\n",
              "        buttonEl.style.display =\n",
              "          google.colab.kernel.accessAllowed ? 'block' : 'none';\n",
              "\n",
              "        async function convertToInteractive(key) {\n",
              "          const element = document.querySelector('#df-3fc272c5-c9a2-4e65-80b7-2fdfbeb4b4e9');\n",
              "          const dataTable =\n",
              "            await google.colab.kernel.invokeFunction('convertToInteractive',\n",
              "                                                     [key], {});\n",
              "          if (!dataTable) return;\n",
              "\n",
              "          const docLinkHtml = 'Like what you see? Visit the ' +\n",
              "            '<a target=\"_blank\" href=https://colab.research.google.com/notebooks/data_table.ipynb>data table notebook</a>'\n",
              "            + ' to learn more about interactive tables.';\n",
              "          element.innerHTML = '';\n",
              "          dataTable['output_type'] = 'display_data';\n",
              "          await google.colab.output.renderOutput(dataTable, element);\n",
              "          const docLink = document.createElement('div');\n",
              "          docLink.innerHTML = docLinkHtml;\n",
              "          element.appendChild(docLink);\n",
              "        }\n",
              "      </script>\n",
              "    </div>\n",
              "  </div>\n",
              "  "
            ]
          },
          "metadata": {},
          "execution_count": 40
        }
      ]
    },
    {
      "cell_type": "markdown",
      "source": [
        "#split the dataset training and testing data with test size=20%"
      ],
      "metadata": {
        "id": "0GSRmRE1KwBJ"
      }
    },
    {
      "cell_type": "code",
      "source": [
        "#our label feature has two values that is \"male\" and \"female\" we need to convert into integers for classification\n",
        "df.label=[1 if each == \"female\" else 0 for each in df.label]\n"
      ],
      "metadata": {
        "id": "ZqFZNsWELHQb"
      },
      "execution_count": null,
      "outputs": []
    },
    {
      "cell_type": "code",
      "source": [
        "df.label"
      ],
      "metadata": {
        "colab": {
          "base_uri": "https://localhost:8080/"
        },
        "id": "_e86L1z9ODfr",
        "outputId": "3e771e74-a9fe-4e60-b162-ede7749acf3e"
      },
      "execution_count": null,
      "outputs": [
        {
          "output_type": "execute_result",
          "data": {
            "text/plain": [
              "0       0\n",
              "1       0\n",
              "2       0\n",
              "3       0\n",
              "4       0\n",
              "       ..\n",
              "3163    1\n",
              "3164    1\n",
              "3165    1\n",
              "3166    1\n",
              "3167    1\n",
              "Name: label, Length: 3168, dtype: int64"
            ]
          },
          "metadata": {},
          "execution_count": 42
        }
      ]
    },
    {
      "cell_type": "code",
      "source": [
        "x=df.drop(['label'],axis='columns')\n",
        "y=df.label.values\n",
        "#importing class for splitting\n",
        "from sklearn.model_selection import train_test_split\n",
        "x_train,x_test,y_train,y_test=train_test_split(x,y,test_size=0.2,random_state=100)\n",
        "algo_names=[]\n",
        "algo_scores=[]"
      ],
      "metadata": {
        "id": "9TCaw7UgOTVs"
      },
      "execution_count": null,
      "outputs": []
    },
    {
      "cell_type": "code",
      "source": [
        "x_train.shape"
      ],
      "metadata": {
        "colab": {
          "base_uri": "https://localhost:8080/"
        },
        "id": "NI42oCIzSCMI",
        "outputId": "7f883033-17ba-42ed-e7bb-f1dbe5d99261"
      },
      "execution_count": null,
      "outputs": [
        {
          "output_type": "execute_result",
          "data": {
            "text/plain": [
              "(2534, 20)"
            ]
          },
          "metadata": {},
          "execution_count": 43
        }
      ]
    },
    {
      "cell_type": "code",
      "source": [
        "x_test.shape"
      ],
      "metadata": {
        "colab": {
          "base_uri": "https://localhost:8080/"
        },
        "id": "GgbGsGwhSLOp",
        "outputId": "6ca20b8f-3b71-4f0a-bc7f-e28f4e9097b9"
      },
      "execution_count": null,
      "outputs": [
        {
          "output_type": "execute_result",
          "data": {
            "text/plain": [
              "(634, 20)"
            ]
          },
          "metadata": {},
          "execution_count": 44
        }
      ]
    },
    {
      "cell_type": "code",
      "source": [
        "y_train.shape"
      ],
      "metadata": {
        "colab": {
          "base_uri": "https://localhost:8080/"
        },
        "id": "VnYXTfMFSQj-",
        "outputId": "886f5a73-8e2b-43ae-b0eb-ea3ffe90bc22"
      },
      "execution_count": null,
      "outputs": [
        {
          "output_type": "execute_result",
          "data": {
            "text/plain": [
              "(2534,)"
            ]
          },
          "metadata": {},
          "execution_count": 45
        }
      ]
    },
    {
      "cell_type": "code",
      "source": [
        "y_test.shape"
      ],
      "metadata": {
        "colab": {
          "base_uri": "https://localhost:8080/"
        },
        "id": "3uKw5dolSYia",
        "outputId": "b27b7a93-8ab2-45d1-8200-75ec17a4436d"
      },
      "execution_count": null,
      "outputs": [
        {
          "output_type": "execute_result",
          "data": {
            "text/plain": [
              "(634,)"
            ]
          },
          "metadata": {},
          "execution_count": 46
        }
      ]
    },
    {
      "cell_type": "code",
      "source": [
        "x_train.head()"
      ],
      "metadata": {
        "colab": {
          "base_uri": "https://localhost:8080/",
          "height": 270
        },
        "id": "zjeN-adnSesk",
        "outputId": "a327337d-6e77-45ee-ef2d-20a5e29d2dee"
      },
      "execution_count": null,
      "outputs": [
        {
          "output_type": "execute_result",
          "data": {
            "text/plain": [
              "      meanfreq        sd    median       Q25       Q75       IQR      skew  \\\n",
              "791   0.169951  0.058802  0.179331  0.113743  0.214412  0.100669  1.518671   \n",
              "1893  0.195861  0.057153  0.205355  0.181234  0.234366  0.053132  2.004903   \n",
              "742   0.169633  0.057877  0.189330  0.106650  0.209826  0.103176  2.485530   \n",
              "1461  0.179274  0.057481  0.190539  0.122573  0.223651  0.101079  0.809674   \n",
              "1246  0.183552  0.052912  0.185812  0.142883  0.222014  0.079130  1.151453   \n",
              "\n",
              "           kurt    sp.ent       sfm      mode  centroid   meanfun    minfun  \\\n",
              "791    6.020674  0.934683  0.465467  0.093696  0.169951  0.094131  0.019925   \n",
              "1893   8.716056  0.889968  0.374785  0.049872  0.195861  0.139459  0.016860   \n",
              "742   11.331393  0.907188  0.415658  0.207047  0.169633  0.096447  0.015779   \n",
              "1461   2.789713  0.929229  0.423772  0.097593  0.179274  0.104121  0.047478   \n",
              "1246   4.205276  0.924422  0.375796  0.220732  0.183552  0.123960  0.047151   \n",
              "\n",
              "        maxfun   meandom    mindom    maxdom   dfrange   modindx  \n",
              "791   0.145455  0.911765  0.007812  6.929688  6.921875  0.196183  \n",
              "1893  0.250000  0.236753  0.054688  0.750000  0.695312  0.259448  \n",
              "742   0.213333  0.174479  0.093750  0.562500  0.468750  0.132500  \n",
              "1461  0.268156  0.389476  0.023438  0.656250  0.632812  0.146991  \n",
              "1246  0.279070  0.777656  0.023438  8.015625  7.992188  0.091258  "
            ],
            "text/html": [
              "\n",
              "  <div id=\"df-2d3103a4-bcfc-4f57-9132-ddce62aff30d\">\n",
              "    <div class=\"colab-df-container\">\n",
              "      <div>\n",
              "<style scoped>\n",
              "    .dataframe tbody tr th:only-of-type {\n",
              "        vertical-align: middle;\n",
              "    }\n",
              "\n",
              "    .dataframe tbody tr th {\n",
              "        vertical-align: top;\n",
              "    }\n",
              "\n",
              "    .dataframe thead th {\n",
              "        text-align: right;\n",
              "    }\n",
              "</style>\n",
              "<table border=\"1\" class=\"dataframe\">\n",
              "  <thead>\n",
              "    <tr style=\"text-align: right;\">\n",
              "      <th></th>\n",
              "      <th>meanfreq</th>\n",
              "      <th>sd</th>\n",
              "      <th>median</th>\n",
              "      <th>Q25</th>\n",
              "      <th>Q75</th>\n",
              "      <th>IQR</th>\n",
              "      <th>skew</th>\n",
              "      <th>kurt</th>\n",
              "      <th>sp.ent</th>\n",
              "      <th>sfm</th>\n",
              "      <th>mode</th>\n",
              "      <th>centroid</th>\n",
              "      <th>meanfun</th>\n",
              "      <th>minfun</th>\n",
              "      <th>maxfun</th>\n",
              "      <th>meandom</th>\n",
              "      <th>mindom</th>\n",
              "      <th>maxdom</th>\n",
              "      <th>dfrange</th>\n",
              "      <th>modindx</th>\n",
              "    </tr>\n",
              "  </thead>\n",
              "  <tbody>\n",
              "    <tr>\n",
              "      <th>791</th>\n",
              "      <td>0.169951</td>\n",
              "      <td>0.058802</td>\n",
              "      <td>0.179331</td>\n",
              "      <td>0.113743</td>\n",
              "      <td>0.214412</td>\n",
              "      <td>0.100669</td>\n",
              "      <td>1.518671</td>\n",
              "      <td>6.020674</td>\n",
              "      <td>0.934683</td>\n",
              "      <td>0.465467</td>\n",
              "      <td>0.093696</td>\n",
              "      <td>0.169951</td>\n",
              "      <td>0.094131</td>\n",
              "      <td>0.019925</td>\n",
              "      <td>0.145455</td>\n",
              "      <td>0.911765</td>\n",
              "      <td>0.007812</td>\n",
              "      <td>6.929688</td>\n",
              "      <td>6.921875</td>\n",
              "      <td>0.196183</td>\n",
              "    </tr>\n",
              "    <tr>\n",
              "      <th>1893</th>\n",
              "      <td>0.195861</td>\n",
              "      <td>0.057153</td>\n",
              "      <td>0.205355</td>\n",
              "      <td>0.181234</td>\n",
              "      <td>0.234366</td>\n",
              "      <td>0.053132</td>\n",
              "      <td>2.004903</td>\n",
              "      <td>8.716056</td>\n",
              "      <td>0.889968</td>\n",
              "      <td>0.374785</td>\n",
              "      <td>0.049872</td>\n",
              "      <td>0.195861</td>\n",
              "      <td>0.139459</td>\n",
              "      <td>0.016860</td>\n",
              "      <td>0.250000</td>\n",
              "      <td>0.236753</td>\n",
              "      <td>0.054688</td>\n",
              "      <td>0.750000</td>\n",
              "      <td>0.695312</td>\n",
              "      <td>0.259448</td>\n",
              "    </tr>\n",
              "    <tr>\n",
              "      <th>742</th>\n",
              "      <td>0.169633</td>\n",
              "      <td>0.057877</td>\n",
              "      <td>0.189330</td>\n",
              "      <td>0.106650</td>\n",
              "      <td>0.209826</td>\n",
              "      <td>0.103176</td>\n",
              "      <td>2.485530</td>\n",
              "      <td>11.331393</td>\n",
              "      <td>0.907188</td>\n",
              "      <td>0.415658</td>\n",
              "      <td>0.207047</td>\n",
              "      <td>0.169633</td>\n",
              "      <td>0.096447</td>\n",
              "      <td>0.015779</td>\n",
              "      <td>0.213333</td>\n",
              "      <td>0.174479</td>\n",
              "      <td>0.093750</td>\n",
              "      <td>0.562500</td>\n",
              "      <td>0.468750</td>\n",
              "      <td>0.132500</td>\n",
              "    </tr>\n",
              "    <tr>\n",
              "      <th>1461</th>\n",
              "      <td>0.179274</td>\n",
              "      <td>0.057481</td>\n",
              "      <td>0.190539</td>\n",
              "      <td>0.122573</td>\n",
              "      <td>0.223651</td>\n",
              "      <td>0.101079</td>\n",
              "      <td>0.809674</td>\n",
              "      <td>2.789713</td>\n",
              "      <td>0.929229</td>\n",
              "      <td>0.423772</td>\n",
              "      <td>0.097593</td>\n",
              "      <td>0.179274</td>\n",
              "      <td>0.104121</td>\n",
              "      <td>0.047478</td>\n",
              "      <td>0.268156</td>\n",
              "      <td>0.389476</td>\n",
              "      <td>0.023438</td>\n",
              "      <td>0.656250</td>\n",
              "      <td>0.632812</td>\n",
              "      <td>0.146991</td>\n",
              "    </tr>\n",
              "    <tr>\n",
              "      <th>1246</th>\n",
              "      <td>0.183552</td>\n",
              "      <td>0.052912</td>\n",
              "      <td>0.185812</td>\n",
              "      <td>0.142883</td>\n",
              "      <td>0.222014</td>\n",
              "      <td>0.079130</td>\n",
              "      <td>1.151453</td>\n",
              "      <td>4.205276</td>\n",
              "      <td>0.924422</td>\n",
              "      <td>0.375796</td>\n",
              "      <td>0.220732</td>\n",
              "      <td>0.183552</td>\n",
              "      <td>0.123960</td>\n",
              "      <td>0.047151</td>\n",
              "      <td>0.279070</td>\n",
              "      <td>0.777656</td>\n",
              "      <td>0.023438</td>\n",
              "      <td>8.015625</td>\n",
              "      <td>7.992188</td>\n",
              "      <td>0.091258</td>\n",
              "    </tr>\n",
              "  </tbody>\n",
              "</table>\n",
              "</div>\n",
              "      <button class=\"colab-df-convert\" onclick=\"convertToInteractive('df-2d3103a4-bcfc-4f57-9132-ddce62aff30d')\"\n",
              "              title=\"Convert this dataframe to an interactive table.\"\n",
              "              style=\"display:none;\">\n",
              "        \n",
              "  <svg xmlns=\"http://www.w3.org/2000/svg\" height=\"24px\"viewBox=\"0 0 24 24\"\n",
              "       width=\"24px\">\n",
              "    <path d=\"M0 0h24v24H0V0z\" fill=\"none\"/>\n",
              "    <path d=\"M18.56 5.44l.94 2.06.94-2.06 2.06-.94-2.06-.94-.94-2.06-.94 2.06-2.06.94zm-11 1L8.5 8.5l.94-2.06 2.06-.94-2.06-.94L8.5 2.5l-.94 2.06-2.06.94zm10 10l.94 2.06.94-2.06 2.06-.94-2.06-.94-.94-2.06-.94 2.06-2.06.94z\"/><path d=\"M17.41 7.96l-1.37-1.37c-.4-.4-.92-.59-1.43-.59-.52 0-1.04.2-1.43.59L10.3 9.45l-7.72 7.72c-.78.78-.78 2.05 0 2.83L4 21.41c.39.39.9.59 1.41.59.51 0 1.02-.2 1.41-.59l7.78-7.78 2.81-2.81c.8-.78.8-2.07 0-2.86zM5.41 20L4 18.59l7.72-7.72 1.47 1.35L5.41 20z\"/>\n",
              "  </svg>\n",
              "      </button>\n",
              "      \n",
              "  <style>\n",
              "    .colab-df-container {\n",
              "      display:flex;\n",
              "      flex-wrap:wrap;\n",
              "      gap: 12px;\n",
              "    }\n",
              "\n",
              "    .colab-df-convert {\n",
              "      background-color: #E8F0FE;\n",
              "      border: none;\n",
              "      border-radius: 50%;\n",
              "      cursor: pointer;\n",
              "      display: none;\n",
              "      fill: #1967D2;\n",
              "      height: 32px;\n",
              "      padding: 0 0 0 0;\n",
              "      width: 32px;\n",
              "    }\n",
              "\n",
              "    .colab-df-convert:hover {\n",
              "      background-color: #E2EBFA;\n",
              "      box-shadow: 0px 1px 2px rgba(60, 64, 67, 0.3), 0px 1px 3px 1px rgba(60, 64, 67, 0.15);\n",
              "      fill: #174EA6;\n",
              "    }\n",
              "\n",
              "    [theme=dark] .colab-df-convert {\n",
              "      background-color: #3B4455;\n",
              "      fill: #D2E3FC;\n",
              "    }\n",
              "\n",
              "    [theme=dark] .colab-df-convert:hover {\n",
              "      background-color: #434B5C;\n",
              "      box-shadow: 0px 1px 3px 1px rgba(0, 0, 0, 0.15);\n",
              "      filter: drop-shadow(0px 1px 2px rgba(0, 0, 0, 0.3));\n",
              "      fill: #FFFFFF;\n",
              "    }\n",
              "  </style>\n",
              "\n",
              "      <script>\n",
              "        const buttonEl =\n",
              "          document.querySelector('#df-2d3103a4-bcfc-4f57-9132-ddce62aff30d button.colab-df-convert');\n",
              "        buttonEl.style.display =\n",
              "          google.colab.kernel.accessAllowed ? 'block' : 'none';\n",
              "\n",
              "        async function convertToInteractive(key) {\n",
              "          const element = document.querySelector('#df-2d3103a4-bcfc-4f57-9132-ddce62aff30d');\n",
              "          const dataTable =\n",
              "            await google.colab.kernel.invokeFunction('convertToInteractive',\n",
              "                                                     [key], {});\n",
              "          if (!dataTable) return;\n",
              "\n",
              "          const docLinkHtml = 'Like what you see? Visit the ' +\n",
              "            '<a target=\"_blank\" href=https://colab.research.google.com/notebooks/data_table.ipynb>data table notebook</a>'\n",
              "            + ' to learn more about interactive tables.';\n",
              "          element.innerHTML = '';\n",
              "          dataTable['output_type'] = 'display_data';\n",
              "          await google.colab.output.renderOutput(dataTable, element);\n",
              "          const docLink = document.createElement('div');\n",
              "          docLink.innerHTML = docLinkHtml;\n",
              "          element.appendChild(docLink);\n",
              "        }\n",
              "      </script>\n",
              "    </div>\n",
              "  </div>\n",
              "  "
            ]
          },
          "metadata": {},
          "execution_count": 47
        }
      ]
    },
    {
      "cell_type": "code",
      "source": [
        "x_test.head()"
      ],
      "metadata": {
        "colab": {
          "base_uri": "https://localhost:8080/",
          "height": 270
        },
        "id": "O0nQha9cTHXQ",
        "outputId": "ec772f36-ad82-41f7-9114-094c99280b09"
      },
      "execution_count": null,
      "outputs": [
        {
          "output_type": "execute_result",
          "data": {
            "text/plain": [
              "      meanfreq        sd    median       Q25       Q75       IQR      skew  \\\n",
              "322   0.154434  0.061416  0.166399  0.098671  0.202102  0.103431  3.019968   \n",
              "1221  0.198480  0.063197  0.199937  0.137125  0.258325  0.121201  2.464330   \n",
              "1498  0.161514  0.074179  0.182566  0.102510  0.226109  0.123598  1.318529   \n",
              "1745  0.187125  0.031593  0.185277  0.170122  0.199296  0.029175  2.221711   \n",
              "2388  0.213095  0.037241  0.217306  0.199241  0.232713  0.033472  2.168188   \n",
              "\n",
              "           kurt    sp.ent       sfm      mode  centroid   meanfun    minfun  \\\n",
              "322   12.758842  0.897214  0.459831  0.099536  0.154434  0.094673  0.014205   \n",
              "1221  10.059033  0.861033  0.275471  0.256556  0.198480  0.132247  0.049485   \n",
              "1498   4.686746  0.962416  0.726932  0.098605  0.161514  0.113916  0.049689   \n",
              "1745   7.246410  0.840933  0.212158  0.170501  0.187125  0.178872  0.081633   \n",
              "2388   7.224561  0.843428  0.256797  0.227932  0.213095  0.160391  0.047291   \n",
              "\n",
              "        maxfun   meandom    mindom     maxdom    dfrange   modindx  \n",
              "322   0.103093  0.524774  0.205078   0.708008   0.502930  0.306149  \n",
              "1221  0.266667  1.444973  0.140625  12.023438  11.882812  0.095332  \n",
              "1498  0.275862  0.642663  0.046875   4.312500   4.265625  0.186896  \n",
              "1745  0.231884  0.191840  0.164062   0.234375   0.070312  0.104575  \n",
              "2388  0.277457  1.227764  0.210938   7.757812   7.546875  0.125086  "
            ],
            "text/html": [
              "\n",
              "  <div id=\"df-68a5b63c-0e11-42b3-aa81-08cba388de4e\">\n",
              "    <div class=\"colab-df-container\">\n",
              "      <div>\n",
              "<style scoped>\n",
              "    .dataframe tbody tr th:only-of-type {\n",
              "        vertical-align: middle;\n",
              "    }\n",
              "\n",
              "    .dataframe tbody tr th {\n",
              "        vertical-align: top;\n",
              "    }\n",
              "\n",
              "    .dataframe thead th {\n",
              "        text-align: right;\n",
              "    }\n",
              "</style>\n",
              "<table border=\"1\" class=\"dataframe\">\n",
              "  <thead>\n",
              "    <tr style=\"text-align: right;\">\n",
              "      <th></th>\n",
              "      <th>meanfreq</th>\n",
              "      <th>sd</th>\n",
              "      <th>median</th>\n",
              "      <th>Q25</th>\n",
              "      <th>Q75</th>\n",
              "      <th>IQR</th>\n",
              "      <th>skew</th>\n",
              "      <th>kurt</th>\n",
              "      <th>sp.ent</th>\n",
              "      <th>sfm</th>\n",
              "      <th>mode</th>\n",
              "      <th>centroid</th>\n",
              "      <th>meanfun</th>\n",
              "      <th>minfun</th>\n",
              "      <th>maxfun</th>\n",
              "      <th>meandom</th>\n",
              "      <th>mindom</th>\n",
              "      <th>maxdom</th>\n",
              "      <th>dfrange</th>\n",
              "      <th>modindx</th>\n",
              "    </tr>\n",
              "  </thead>\n",
              "  <tbody>\n",
              "    <tr>\n",
              "      <th>322</th>\n",
              "      <td>0.154434</td>\n",
              "      <td>0.061416</td>\n",
              "      <td>0.166399</td>\n",
              "      <td>0.098671</td>\n",
              "      <td>0.202102</td>\n",
              "      <td>0.103431</td>\n",
              "      <td>3.019968</td>\n",
              "      <td>12.758842</td>\n",
              "      <td>0.897214</td>\n",
              "      <td>0.459831</td>\n",
              "      <td>0.099536</td>\n",
              "      <td>0.154434</td>\n",
              "      <td>0.094673</td>\n",
              "      <td>0.014205</td>\n",
              "      <td>0.103093</td>\n",
              "      <td>0.524774</td>\n",
              "      <td>0.205078</td>\n",
              "      <td>0.708008</td>\n",
              "      <td>0.502930</td>\n",
              "      <td>0.306149</td>\n",
              "    </tr>\n",
              "    <tr>\n",
              "      <th>1221</th>\n",
              "      <td>0.198480</td>\n",
              "      <td>0.063197</td>\n",
              "      <td>0.199937</td>\n",
              "      <td>0.137125</td>\n",
              "      <td>0.258325</td>\n",
              "      <td>0.121201</td>\n",
              "      <td>2.464330</td>\n",
              "      <td>10.059033</td>\n",
              "      <td>0.861033</td>\n",
              "      <td>0.275471</td>\n",
              "      <td>0.256556</td>\n",
              "      <td>0.198480</td>\n",
              "      <td>0.132247</td>\n",
              "      <td>0.049485</td>\n",
              "      <td>0.266667</td>\n",
              "      <td>1.444973</td>\n",
              "      <td>0.140625</td>\n",
              "      <td>12.023438</td>\n",
              "      <td>11.882812</td>\n",
              "      <td>0.095332</td>\n",
              "    </tr>\n",
              "    <tr>\n",
              "      <th>1498</th>\n",
              "      <td>0.161514</td>\n",
              "      <td>0.074179</td>\n",
              "      <td>0.182566</td>\n",
              "      <td>0.102510</td>\n",
              "      <td>0.226109</td>\n",
              "      <td>0.123598</td>\n",
              "      <td>1.318529</td>\n",
              "      <td>4.686746</td>\n",
              "      <td>0.962416</td>\n",
              "      <td>0.726932</td>\n",
              "      <td>0.098605</td>\n",
              "      <td>0.161514</td>\n",
              "      <td>0.113916</td>\n",
              "      <td>0.049689</td>\n",
              "      <td>0.275862</td>\n",
              "      <td>0.642663</td>\n",
              "      <td>0.046875</td>\n",
              "      <td>4.312500</td>\n",
              "      <td>4.265625</td>\n",
              "      <td>0.186896</td>\n",
              "    </tr>\n",
              "    <tr>\n",
              "      <th>1745</th>\n",
              "      <td>0.187125</td>\n",
              "      <td>0.031593</td>\n",
              "      <td>0.185277</td>\n",
              "      <td>0.170122</td>\n",
              "      <td>0.199296</td>\n",
              "      <td>0.029175</td>\n",
              "      <td>2.221711</td>\n",
              "      <td>7.246410</td>\n",
              "      <td>0.840933</td>\n",
              "      <td>0.212158</td>\n",
              "      <td>0.170501</td>\n",
              "      <td>0.187125</td>\n",
              "      <td>0.178872</td>\n",
              "      <td>0.081633</td>\n",
              "      <td>0.231884</td>\n",
              "      <td>0.191840</td>\n",
              "      <td>0.164062</td>\n",
              "      <td>0.234375</td>\n",
              "      <td>0.070312</td>\n",
              "      <td>0.104575</td>\n",
              "    </tr>\n",
              "    <tr>\n",
              "      <th>2388</th>\n",
              "      <td>0.213095</td>\n",
              "      <td>0.037241</td>\n",
              "      <td>0.217306</td>\n",
              "      <td>0.199241</td>\n",
              "      <td>0.232713</td>\n",
              "      <td>0.033472</td>\n",
              "      <td>2.168188</td>\n",
              "      <td>7.224561</td>\n",
              "      <td>0.843428</td>\n",
              "      <td>0.256797</td>\n",
              "      <td>0.227932</td>\n",
              "      <td>0.213095</td>\n",
              "      <td>0.160391</td>\n",
              "      <td>0.047291</td>\n",
              "      <td>0.277457</td>\n",
              "      <td>1.227764</td>\n",
              "      <td>0.210938</td>\n",
              "      <td>7.757812</td>\n",
              "      <td>7.546875</td>\n",
              "      <td>0.125086</td>\n",
              "    </tr>\n",
              "  </tbody>\n",
              "</table>\n",
              "</div>\n",
              "      <button class=\"colab-df-convert\" onclick=\"convertToInteractive('df-68a5b63c-0e11-42b3-aa81-08cba388de4e')\"\n",
              "              title=\"Convert this dataframe to an interactive table.\"\n",
              "              style=\"display:none;\">\n",
              "        \n",
              "  <svg xmlns=\"http://www.w3.org/2000/svg\" height=\"24px\"viewBox=\"0 0 24 24\"\n",
              "       width=\"24px\">\n",
              "    <path d=\"M0 0h24v24H0V0z\" fill=\"none\"/>\n",
              "    <path d=\"M18.56 5.44l.94 2.06.94-2.06 2.06-.94-2.06-.94-.94-2.06-.94 2.06-2.06.94zm-11 1L8.5 8.5l.94-2.06 2.06-.94-2.06-.94L8.5 2.5l-.94 2.06-2.06.94zm10 10l.94 2.06.94-2.06 2.06-.94-2.06-.94-.94-2.06-.94 2.06-2.06.94z\"/><path d=\"M17.41 7.96l-1.37-1.37c-.4-.4-.92-.59-1.43-.59-.52 0-1.04.2-1.43.59L10.3 9.45l-7.72 7.72c-.78.78-.78 2.05 0 2.83L4 21.41c.39.39.9.59 1.41.59.51 0 1.02-.2 1.41-.59l7.78-7.78 2.81-2.81c.8-.78.8-2.07 0-2.86zM5.41 20L4 18.59l7.72-7.72 1.47 1.35L5.41 20z\"/>\n",
              "  </svg>\n",
              "      </button>\n",
              "      \n",
              "  <style>\n",
              "    .colab-df-container {\n",
              "      display:flex;\n",
              "      flex-wrap:wrap;\n",
              "      gap: 12px;\n",
              "    }\n",
              "\n",
              "    .colab-df-convert {\n",
              "      background-color: #E8F0FE;\n",
              "      border: none;\n",
              "      border-radius: 50%;\n",
              "      cursor: pointer;\n",
              "      display: none;\n",
              "      fill: #1967D2;\n",
              "      height: 32px;\n",
              "      padding: 0 0 0 0;\n",
              "      width: 32px;\n",
              "    }\n",
              "\n",
              "    .colab-df-convert:hover {\n",
              "      background-color: #E2EBFA;\n",
              "      box-shadow: 0px 1px 2px rgba(60, 64, 67, 0.3), 0px 1px 3px 1px rgba(60, 64, 67, 0.15);\n",
              "      fill: #174EA6;\n",
              "    }\n",
              "\n",
              "    [theme=dark] .colab-df-convert {\n",
              "      background-color: #3B4455;\n",
              "      fill: #D2E3FC;\n",
              "    }\n",
              "\n",
              "    [theme=dark] .colab-df-convert:hover {\n",
              "      background-color: #434B5C;\n",
              "      box-shadow: 0px 1px 3px 1px rgba(0, 0, 0, 0.15);\n",
              "      filter: drop-shadow(0px 1px 2px rgba(0, 0, 0, 0.3));\n",
              "      fill: #FFFFFF;\n",
              "    }\n",
              "  </style>\n",
              "\n",
              "      <script>\n",
              "        const buttonEl =\n",
              "          document.querySelector('#df-68a5b63c-0e11-42b3-aa81-08cba388de4e button.colab-df-convert');\n",
              "        buttonEl.style.display =\n",
              "          google.colab.kernel.accessAllowed ? 'block' : 'none';\n",
              "\n",
              "        async function convertToInteractive(key) {\n",
              "          const element = document.querySelector('#df-68a5b63c-0e11-42b3-aa81-08cba388de4e');\n",
              "          const dataTable =\n",
              "            await google.colab.kernel.invokeFunction('convertToInteractive',\n",
              "                                                     [key], {});\n",
              "          if (!dataTable) return;\n",
              "\n",
              "          const docLinkHtml = 'Like what you see? Visit the ' +\n",
              "            '<a target=\"_blank\" href=https://colab.research.google.com/notebooks/data_table.ipynb>data table notebook</a>'\n",
              "            + ' to learn more about interactive tables.';\n",
              "          element.innerHTML = '';\n",
              "          dataTable['output_type'] = 'display_data';\n",
              "          await google.colab.output.renderOutput(dataTable, element);\n",
              "          const docLink = document.createElement('div');\n",
              "          docLink.innerHTML = docLinkHtml;\n",
              "          element.appendChild(docLink);\n",
              "        }\n",
              "      </script>\n",
              "    </div>\n",
              "  </div>\n",
              "  "
            ]
          },
          "metadata": {},
          "execution_count": 48
        }
      ]
    },
    {
      "cell_type": "code",
      "source": [
        "import numpy as np\n",
        "y_train"
      ],
      "metadata": {
        "colab": {
          "base_uri": "https://localhost:8080/"
        },
        "id": "oGA4gKssTTse",
        "outputId": "44aee63b-c8f6-4256-ecdd-385e869ff7b9"
      },
      "execution_count": null,
      "outputs": [
        {
          "output_type": "execute_result",
          "data": {
            "text/plain": [
              "array(['male', 'female', 'male', ..., 'female', 'female', 'male'],\n",
              "      dtype=object)"
            ]
          },
          "metadata": {},
          "execution_count": 49
        }
      ]
    },
    {
      "cell_type": "code",
      "source": [
        "y_test"
      ],
      "metadata": {
        "id": "uPSR9vYVTqAk",
        "outputId": "ef5a336c-8712-4081-d6bd-218baa3085db",
        "colab": {
          "base_uri": "https://localhost:8080/"
        }
      },
      "execution_count": null,
      "outputs": [
        {
          "output_type": "execute_result",
          "data": {
            "text/plain": [
              "array(['male', 'male', 'male', 'female', 'female', 'female', 'female',\n",
              "       'female', 'male', 'male', 'male', 'female', 'male', 'female',\n",
              "       'female', 'female', 'female', 'male', 'male', 'female', 'male',\n",
              "       'female', 'female', 'female', 'female', 'male', 'male', 'male',\n",
              "       'female', 'male', 'male', 'female', 'female', 'female', 'female',\n",
              "       'female', 'female', 'female', 'male', 'male', 'female', 'male',\n",
              "       'male', 'female', 'female', 'female', 'male', 'female', 'female',\n",
              "       'male', 'male', 'female', 'male', 'female', 'female', 'male',\n",
              "       'female', 'male', 'male', 'male', 'male', 'female', 'male',\n",
              "       'female', 'female', 'female', 'female', 'male', 'female', 'male',\n",
              "       'female', 'female', 'male', 'male', 'male', 'male', 'female',\n",
              "       'female', 'male', 'male', 'female', 'male', 'male', 'female',\n",
              "       'male', 'male', 'male', 'female', 'female', 'female', 'female',\n",
              "       'male', 'male', 'male', 'male', 'male', 'male', 'male', 'female',\n",
              "       'female', 'female', 'female', 'male', 'male', 'female', 'male',\n",
              "       'male', 'male', 'female', 'female', 'female', 'female', 'female',\n",
              "       'male', 'male', 'male', 'male', 'male', 'male', 'male', 'male',\n",
              "       'male', 'male', 'male', 'female', 'female', 'male', 'male',\n",
              "       'female', 'female', 'female', 'female', 'female', 'male', 'female',\n",
              "       'female', 'female', 'male', 'male', 'male', 'female', 'male',\n",
              "       'female', 'female', 'female', 'male', 'female', 'male', 'female',\n",
              "       'male', 'female', 'female', 'male', 'male', 'female', 'male',\n",
              "       'female', 'female', 'male', 'female', 'male', 'male', 'male',\n",
              "       'female', 'female', 'female', 'female', 'male', 'female', 'female',\n",
              "       'male', 'male', 'male', 'male', 'male', 'male', 'male', 'female',\n",
              "       'male', 'female', 'female', 'female', 'female', 'female', 'female',\n",
              "       'male', 'female', 'female', 'female', 'female', 'female', 'male',\n",
              "       'female', 'female', 'male', 'female', 'male', 'female', 'male',\n",
              "       'female', 'male', 'female', 'female', 'male', 'male', 'male',\n",
              "       'male', 'male', 'female', 'female', 'female', 'female', 'female',\n",
              "       'female', 'female', 'male', 'female', 'male', 'female', 'female',\n",
              "       'male', 'male', 'female', 'female', 'male', 'male', 'male', 'male',\n",
              "       'female', 'male', 'male', 'female', 'male', 'male', 'female',\n",
              "       'female', 'male', 'female', 'female', 'female', 'male', 'female',\n",
              "       'male', 'female', 'female', 'male', 'male', 'female', 'female',\n",
              "       'male', 'male', 'female', 'male', 'male', 'female', 'female',\n",
              "       'female', 'female', 'female', 'male', 'male', 'male', 'male',\n",
              "       'male', 'female', 'female', 'male', 'male', 'male', 'female',\n",
              "       'male', 'male', 'female', 'female', 'female', 'female', 'male',\n",
              "       'male', 'female', 'female', 'male', 'female', 'female', 'female',\n",
              "       'male', 'female', 'male', 'female', 'male', 'female', 'female',\n",
              "       'female', 'female', 'female', 'male', 'female', 'male', 'male',\n",
              "       'female', 'male', 'male', 'female', 'female', 'female', 'male',\n",
              "       'male', 'female', 'male', 'male', 'female', 'male', 'male', 'male',\n",
              "       'male', 'female', 'female', 'male', 'male', 'female', 'female',\n",
              "       'female', 'male', 'male', 'male', 'female', 'male', 'female',\n",
              "       'male', 'female', 'male', 'male', 'male', 'male', 'female', 'male',\n",
              "       'female', 'female', 'female', 'male', 'male', 'female', 'male',\n",
              "       'male', 'male', 'female', 'male', 'male', 'female', 'female',\n",
              "       'female', 'male', 'male', 'male', 'female', 'female', 'male',\n",
              "       'male', 'female', 'male', 'female', 'male', 'male', 'female',\n",
              "       'female', 'female', 'male', 'male', 'female', 'female', 'female',\n",
              "       'female', 'male', 'female', 'female', 'male', 'female', 'male',\n",
              "       'female', 'female', 'female', 'male', 'male', 'male', 'male',\n",
              "       'female', 'male', 'male', 'male', 'female', 'male', 'male',\n",
              "       'female', 'male', 'male', 'female', 'male', 'female', 'male',\n",
              "       'male', 'female', 'female', 'female', 'male', 'male', 'female',\n",
              "       'male', 'female', 'female', 'female', 'female', 'male', 'male',\n",
              "       'male', 'male', 'female', 'female', 'male', 'female', 'female',\n",
              "       'female', 'female', 'female', 'female', 'male', 'male', 'female',\n",
              "       'female', 'female', 'male', 'female', 'female', 'male', 'male',\n",
              "       'male', 'female', 'female', 'female', 'female', 'female', 'male',\n",
              "       'male', 'male', 'male', 'male', 'female', 'male', 'male', 'male',\n",
              "       'female', 'female', 'male', 'female', 'female', 'male', 'female',\n",
              "       'female', 'female', 'male', 'female', 'male', 'male', 'female',\n",
              "       'male', 'female', 'male', 'female', 'female', 'male', 'female',\n",
              "       'male', 'female', 'male', 'male', 'female', 'female', 'male',\n",
              "       'male', 'female', 'male', 'female', 'male', 'male', 'female',\n",
              "       'male', 'female', 'male', 'male', 'female', 'female', 'male',\n",
              "       'female', 'female', 'male', 'male', 'male', 'male', 'male', 'male',\n",
              "       'female', 'female', 'female', 'female', 'female', 'male', 'male',\n",
              "       'male', 'female', 'female', 'male', 'male', 'female', 'male',\n",
              "       'male', 'male', 'male', 'male', 'male', 'female', 'female', 'male',\n",
              "       'female', 'male', 'male', 'male', 'female', 'female', 'female',\n",
              "       'male', 'female', 'female', 'male', 'male', 'male', 'female',\n",
              "       'female', 'female', 'female', 'female', 'male', 'male', 'male',\n",
              "       'male', 'female', 'female', 'male', 'male', 'male', 'female',\n",
              "       'male', 'female', 'male', 'female', 'female', 'male', 'male',\n",
              "       'female', 'female', 'male', 'female', 'male', 'female', 'male',\n",
              "       'female', 'male', 'male', 'male', 'female', 'female', 'male',\n",
              "       'male', 'female', 'male', 'female', 'female', 'female', 'female',\n",
              "       'male', 'male', 'male', 'female', 'male', 'female', 'female',\n",
              "       'male', 'female', 'female', 'female', 'female', 'male', 'female',\n",
              "       'male', 'male', 'female', 'male', 'female', 'female', 'male',\n",
              "       'female', 'female', 'male', 'female', 'male', 'female', 'male',\n",
              "       'female', 'female', 'male', 'male', 'male', 'female', 'male',\n",
              "       'male', 'female', 'male', 'male', 'female', 'female', 'male',\n",
              "       'male', 'female', 'female', 'female', 'male', 'male', 'male',\n",
              "       'male', 'male', 'female', 'male', 'female', 'male', 'female',\n",
              "       'male', 'male'], dtype=object)"
            ]
          },
          "metadata": {},
          "execution_count": 50
        }
      ]
    },
    {
      "cell_type": "markdown",
      "source": [
        "#Applying Different  Modules"
      ],
      "metadata": {
        "id": "xNkL9CxSxG9S"
      }
    },
    {
      "cell_type": "markdown",
      "source": [
        "1)Decision Tree Classifier"
      ],
      "metadata": {
        "id": "45nW46zTxZ9L"
      }
    },
    {
      "cell_type": "code",
      "source": [
        "from sklearn.tree import DecisionTreeClassifier"
      ],
      "metadata": {
        "id": "jieoVBicxqxx"
      },
      "execution_count": null,
      "outputs": []
    },
    {
      "cell_type": "code",
      "source": [
        "dec_tree=DecisionTreeClassifier(random_state=100)\n",
        "dec_tree.fit(x_train,y_train)"
      ],
      "metadata": {
        "colab": {
          "base_uri": "https://localhost:8080/"
        },
        "id": "Xjj96s-521bc",
        "outputId": "4b257fc7-9d72-494f-eec2-16ab541115ad"
      },
      "execution_count": null,
      "outputs": [
        {
          "output_type": "execute_result",
          "data": {
            "text/plain": [
              "DecisionTreeClassifier(random_state=100)"
            ]
          },
          "metadata": {},
          "execution_count": 5
        }
      ]
    },
    {
      "cell_type": "code",
      "source": [
        "print('Training score',dec_tree.score(x_train,y_train))\n",
        "print('Testing score',dec_tree.score(x_test,y_test))"
      ],
      "metadata": {
        "colab": {
          "base_uri": "https://localhost:8080/"
        },
        "id": "HSAxsmJr4GXu",
        "outputId": "2e73e150-28b4-4ad4-cd5c-3d6b83cfd79e"
      },
      "execution_count": null,
      "outputs": [
        {
          "output_type": "stream",
          "name": "stdout",
          "text": [
            "Training score 1.0\n",
            "Testing score 0.9558359621451105\n"
          ]
        }
      ]
    },
    {
      "cell_type": "code",
      "source": [
        "p1=dec_tree.predict(x_test)\n",
        "print(p1)\n"
      ],
      "metadata": {
        "colab": {
          "base_uri": "https://localhost:8080/"
        },
        "id": "noz8FBWZ5FF6",
        "outputId": "b5ded70f-a538-432b-992c-220babed1d6c"
      },
      "execution_count": null,
      "outputs": [
        {
          "output_type": "stream",
          "name": "stdout",
          "text": [
            "['male' 'male' 'male' 'female' 'female' 'female' 'female' 'female' 'male'\n",
            " 'male' 'male' 'female' 'male' 'female' 'female' 'female' 'female' 'male'\n",
            " 'male' 'female' 'male' 'female' 'female' 'female' 'female' 'male' 'male'\n",
            " 'male' 'female' 'male' 'male' 'female' 'female' 'female' 'female'\n",
            " 'female' 'female' 'female' 'female' 'male' 'female' 'male' 'male' 'male'\n",
            " 'female' 'female' 'male' 'female' 'female' 'male' 'male' 'female' 'male'\n",
            " 'female' 'female' 'male' 'male' 'male' 'male' 'male' 'male' 'female'\n",
            " 'male' 'female' 'female' 'female' 'female' 'male' 'female' 'male'\n",
            " 'female' 'female' 'male' 'male' 'male' 'male' 'female' 'female' 'male'\n",
            " 'male' 'female' 'male' 'male' 'female' 'female' 'male' 'male' 'female'\n",
            " 'female' 'female' 'female' 'male' 'male' 'female' 'male' 'male' 'male'\n",
            " 'male' 'female' 'male' 'female' 'female' 'male' 'male' 'female' 'male'\n",
            " 'male' 'male' 'female' 'female' 'female' 'female' 'female' 'male' 'male'\n",
            " 'male' 'male' 'female' 'male' 'male' 'male' 'male' 'male' 'male' 'female'\n",
            " 'female' 'male' 'male' 'female' 'female' 'female' 'female' 'female'\n",
            " 'male' 'female' 'female' 'female' 'male' 'male' 'male' 'female' 'male'\n",
            " 'female' 'female' 'female' 'male' 'female' 'male' 'female' 'male'\n",
            " 'female' 'female' 'male' 'male' 'female' 'male' 'female' 'female' 'male'\n",
            " 'female' 'male' 'male' 'male' 'female' 'female' 'female' 'female' 'male'\n",
            " 'female' 'male' 'male' 'male' 'male' 'male' 'male' 'male' 'male' 'female'\n",
            " 'male' 'female' 'female' 'female' 'male' 'female' 'female' 'male'\n",
            " 'female' 'female' 'female' 'female' 'female' 'male' 'female' 'female'\n",
            " 'male' 'male' 'male' 'female' 'male' 'female' 'male' 'female' 'female'\n",
            " 'male' 'male' 'male' 'male' 'male' 'female' 'female' 'female' 'female'\n",
            " 'female' 'female' 'female' 'male' 'female' 'male' 'female' 'male' 'male'\n",
            " 'male' 'female' 'female' 'male' 'male' 'male' 'male' 'female' 'male'\n",
            " 'male' 'female' 'male' 'male' 'female' 'female' 'male' 'female' 'female'\n",
            " 'female' 'male' 'female' 'male' 'female' 'female' 'male' 'male' 'female'\n",
            " 'female' 'male' 'male' 'female' 'male' 'female' 'female' 'female'\n",
            " 'female' 'female' 'female' 'male' 'male' 'male' 'female' 'male' 'female'\n",
            " 'female' 'male' 'male' 'male' 'female' 'male' 'male' 'female' 'female'\n",
            " 'female' 'female' 'male' 'male' 'female' 'female' 'male' 'female'\n",
            " 'female' 'female' 'male' 'female' 'male' 'female' 'male' 'female'\n",
            " 'female' 'female' 'female' 'female' 'female' 'female' 'male' 'male'\n",
            " 'female' 'male' 'male' 'female' 'female' 'female' 'male' 'male' 'female'\n",
            " 'male' 'female' 'female' 'male' 'male' 'female' 'male' 'female' 'female'\n",
            " 'male' 'male' 'female' 'female' 'female' 'male' 'male' 'male' 'female'\n",
            " 'male' 'male' 'male' 'female' 'male' 'male' 'male' 'male' 'female' 'male'\n",
            " 'male' 'female' 'female' 'male' 'male' 'female' 'male' 'male' 'male'\n",
            " 'female' 'male' 'male' 'female' 'female' 'female' 'male' 'male' 'male'\n",
            " 'female' 'female' 'male' 'male' 'female' 'male' 'female' 'male' 'male'\n",
            " 'female' 'female' 'female' 'male' 'male' 'female' 'female' 'female'\n",
            " 'female' 'male' 'female' 'female' 'male' 'female' 'male' 'female'\n",
            " 'female' 'female' 'male' 'male' 'male' 'male' 'female' 'male' 'male'\n",
            " 'male' 'female' 'male' 'male' 'female' 'male' 'male' 'male' 'male'\n",
            " 'female' 'male' 'male' 'female' 'female' 'female' 'male' 'male' 'female'\n",
            " 'male' 'female' 'female' 'female' 'female' 'male' 'male' 'male' 'male'\n",
            " 'female' 'female' 'female' 'female' 'female' 'female' 'female' 'female'\n",
            " 'female' 'female' 'male' 'female' 'female' 'female' 'male' 'female'\n",
            " 'male' 'male' 'male' 'male' 'female' 'female' 'female' 'female' 'female'\n",
            " 'male' 'male' 'male' 'male' 'male' 'female' 'male' 'male' 'male' 'female'\n",
            " 'female' 'male' 'female' 'female' 'male' 'female' 'female' 'female'\n",
            " 'male' 'female' 'male' 'male' 'female' 'male' 'female' 'male' 'female'\n",
            " 'female' 'male' 'female' 'male' 'female' 'male' 'male' 'female' 'female'\n",
            " 'male' 'male' 'female' 'male' 'female' 'male' 'male' 'female' 'male'\n",
            " 'female' 'male' 'male' 'female' 'female' 'male' 'female' 'female' 'male'\n",
            " 'male' 'male' 'male' 'male' 'male' 'female' 'female' 'female' 'female'\n",
            " 'female' 'male' 'male' 'male' 'female' 'female' 'male' 'male' 'female'\n",
            " 'male' 'male' 'male' 'male' 'male' 'male' 'female' 'female' 'male'\n",
            " 'female' 'male' 'male' 'male' 'female' 'female' 'female' 'male' 'female'\n",
            " 'female' 'male' 'male' 'male' 'female' 'female' 'female' 'female'\n",
            " 'female' 'male' 'male' 'male' 'male' 'female' 'female' 'male' 'male'\n",
            " 'male' 'female' 'male' 'female' 'male' 'female' 'female' 'male' 'male'\n",
            " 'female' 'male' 'male' 'male' 'male' 'female' 'male' 'female' 'male'\n",
            " 'male' 'male' 'male' 'female' 'male' 'male' 'male' 'male' 'female'\n",
            " 'female' 'female' 'female' 'male' 'male' 'female' 'female' 'male'\n",
            " 'female' 'female' 'male' 'female' 'female' 'female' 'female' 'male'\n",
            " 'female' 'male' 'male' 'female' 'male' 'female' 'female' 'male' 'female'\n",
            " 'female' 'male' 'female' 'male' 'female' 'male' 'female' 'female' 'male'\n",
            " 'male' 'male' 'female' 'male' 'male' 'female' 'male' 'male' 'female'\n",
            " 'female' 'male' 'male' 'female' 'female' 'female' 'male' 'female' 'male'\n",
            " 'male' 'male' 'female' 'male' 'female' 'male' 'female' 'male' 'male']\n"
          ]
        }
      ]
    },
    {
      "cell_type": "markdown",
      "source": [
        "*generate confusion matrix and classfication report*"
      ],
      "metadata": {
        "id": "JtJso1WA6ahC"
      }
    },
    {
      "cell_type": "code",
      "source": [
        "from sklearn.metrics import confusion_matrix,classification_report,accuracy_score"
      ],
      "metadata": {
        "id": "S1QU6zNL5wdS"
      },
      "execution_count": null,
      "outputs": []
    },
    {
      "cell_type": "code",
      "source": [
        "cm=confusion_matrix(y_test,p1)\n",
        "print(cm)\n",
        "print(classification_report(y_test,p1))\n",
        "print(\"accuracy score\",accuracy_score(y_test,p1))"
      ],
      "metadata": {
        "colab": {
          "base_uri": "https://localhost:8080/"
        },
        "id": "F5wAmjPv69qW",
        "outputId": "9f75cc59-806e-4578-cbb5-ee447cf1b6cc"
      },
      "execution_count": null,
      "outputs": [
        {
          "output_type": "stream",
          "name": "stdout",
          "text": [
            "[[303  15]\n",
            " [ 13 303]]\n",
            "              precision    recall  f1-score   support\n",
            "\n",
            "      female       0.96      0.95      0.96       318\n",
            "        male       0.95      0.96      0.96       316\n",
            "\n",
            "    accuracy                           0.96       634\n",
            "   macro avg       0.96      0.96      0.96       634\n",
            "weighted avg       0.96      0.96      0.96       634\n",
            "\n",
            "accuracy score 0.9558359621451105\n"
          ]
        }
      ]
    },
    {
      "cell_type": "code",
      "source": [
        "from sklearn.tree import plot_tree\n"
      ],
      "metadata": {
        "id": "W4B2Uh8a8gcG"
      },
      "execution_count": null,
      "outputs": []
    },
    {
      "cell_type": "code",
      "source": [
        "#fn=feature_names,cn=class_names\n",
        "fn=x_train.columns\n",
        "cn=['female','male']\n",
        "print(fn)\n",
        "print(cn)"
      ],
      "metadata": {
        "colab": {
          "base_uri": "https://localhost:8080/"
        },
        "id": "GcoCdWCn82eA",
        "outputId": "ab228a63-1725-4363-f1eb-85b92ab8c191"
      },
      "execution_count": null,
      "outputs": [
        {
          "output_type": "stream",
          "name": "stdout",
          "text": [
            "Index(['meanfreq', 'sd', 'median', 'Q25', 'Q75', 'IQR', 'skew', 'kurt',\n",
            "       'sp.ent', 'sfm', 'mode', 'centroid', 'meanfun', 'minfun', 'maxfun',\n",
            "       'meandom', 'mindom', 'maxdom', 'dfrange', 'modindx'],\n",
            "      dtype='object')\n",
            "['female', 'male']\n"
          ]
        }
      ]
    },
    {
      "cell_type": "code",
      "source": [
        "plt.figure(figsize=(8,7))\n",
        "plot_tree(dec_tree,feature_names=fn,class_names=cn,filled=True)\n",
        "plt.show()"
      ],
      "metadata": {
        "colab": {
          "base_uri": "https://localhost:8080/",
          "height": 411
        },
        "id": "_M3SvhVi9dRh",
        "outputId": "7faf8f45-7023-4e79-aa09-5da48cdd0783"
      },
      "execution_count": null,
      "outputs": [
        {
          "output_type": "display_data",
          "data": {
            "text/plain": [
              "<Figure size 576x504 with 1 Axes>"
            ],
            "image/png": "[encoded data removed]"
          },
          "metadata": {
            "needs_background": "light"
          }
        }
      ]
    },
    {
      "cell_type": "markdown",
      "source": [
        "2)Random Forest classifier"
      ],
      "metadata": {
        "id": "eWNj-GaKTKtu"
      }
    },
    {
      "cell_type": "code",
      "source": [
        "from sklearn.ensemble import RandomForestClassifier"
      ],
      "metadata": {
        "id": "OR6WiOgJ-guc"
      },
      "execution_count": null,
      "outputs": []
    },
    {
      "cell_type": "code",
      "source": [
        "rand_forest=RandomForestClassifier(random_state=100)\n",
        "rand_forest.fit(x_train,y_train)"
      ],
      "metadata": {
        "colab": {
          "base_uri": "https://localhost:8080/"
        },
        "id": "gFXCW83nT62I",
        "outputId": "93fafb94-1c03-4183-e39e-5f4d1ca2337f"
      },
      "execution_count": null,
      "outputs": [
        {
          "output_type": "execute_result",
          "data": {
            "text/plain": [
              "RandomForestClassifier(random_state=100)"
            ]
          },
          "metadata": {},
          "execution_count": 12
        }
      ]
    },
    {
      "cell_type": "code",
      "source": [
        "print('Training score',rand_forest.score(x_train,y_train))\n",
        "print('Testing score',rand_forest.score(x_test,y_test))"
      ],
      "metadata": {
        "colab": {
          "base_uri": "https://localhost:8080/"
        },
        "id": "MeYd6yc4UnUu",
        "outputId": "987d581a-629b-4cde-f84a-64f41ac27275"
      },
      "execution_count": null,
      "outputs": [
        {
          "output_type": "stream",
          "name": "stdout",
          "text": [
            "Training score 1.0\n",
            "Testing score 0.9747634069400631\n"
          ]
        }
      ]
    },
    {
      "cell_type": "code",
      "source": [
        "p2=rand_forest.predict(x_test)\n",
        "print(p2)"
      ],
      "metadata": {
        "colab": {
          "base_uri": "https://localhost:8080/"
        },
        "id": "j8jWbmfLU-gc",
        "outputId": "e298895b-9ca0-4398-8ed5-2ba7fec21783"
      },
      "execution_count": null,
      "outputs": [
        {
          "output_type": "stream",
          "name": "stdout",
          "text": [
            "[0 0 0 1 1 1 1 1 0 0 0 1 0 1 1 1 1 0 0 1 0 1 1 1 1 0 0 0 1 0 0 1 1 1 1 1 1\n",
            " 1 0 0 1 0 0 0 1 1 0 1 1 0 0 1 0 1 1 0 1 0 0 0 0 1 0 1 1 1 1 0 1 0 1 1 0 0\n",
            " 0 0 1 1 0 0 1 0 0 1 0 0 0 1 1 1 1 0 0 1 0 0 0 0 1 1 1 1 0 0 1 0 0 0 1 1 1\n",
            " 1 1 0 0 0 0 0 0 0 0 0 0 0 1 1 0 0 1 1 1 1 1 0 1 1 1 0 0 0 1 0 1 1 1 0 1 0\n",
            " 1 0 1 1 0 0 1 1 1 1 0 1 0 0 0 1 1 1 1 1 1 1 0 0 0 0 0 0 0 1 0 1 1 1 1 1 1\n",
            " 0 1 1 1 1 1 0 1 1 0 1 0 1 0 1 0 1 1 0 0 0 0 0 1 1 1 1 1 1 1 0 1 0 1 0 0 0\n",
            " 1 1 0 0 0 0 1 0 0 1 0 0 1 1 0 1 1 1 0 1 0 1 1 0 0 1 1 0 0 1 0 1 1 1 1 1 1\n",
            " 0 0 0 1 0 1 1 0 0 0 1 0 0 1 1 1 1 0 0 1 1 0 1 1 1 0 1 0 1 0 1 1 1 1 1 0 1\n",
            " 0 0 1 0 0 1 1 1 0 0 1 0 0 1 0 0 0 0 1 1 0 0 1 1 1 0 0 0 1 0 1 0 1 0 0 0 0\n",
            " 1 0 1 1 1 0 0 1 0 0 0 1 0 0 1 1 1 0 0 0 1 1 0 0 1 0 1 0 0 1 1 1 0 0 1 1 1\n",
            " 1 0 1 1 0 1 0 1 1 1 0 0 0 0 1 0 0 0 1 0 0 1 0 0 1 0 1 0 0 1 1 1 0 0 1 0 1\n",
            " 1 1 1 0 0 0 0 1 1 1 1 1 1 1 1 1 1 0 1 1 1 0 1 0 0 0 0 1 1 1 1 1 0 0 0 0 0\n",
            " 1 0 0 0 1 1 0 1 1 0 1 1 1 0 1 0 0 1 0 1 0 1 1 0 1 0 1 0 0 1 1 0 0 1 0 1 0\n",
            " 0 1 0 1 0 0 1 1 0 1 1 0 0 0 0 0 0 1 1 1 1 1 0 0 0 1 1 0 0 1 0 0 0 0 0 0 1\n",
            " 1 0 1 0 0 0 1 1 1 0 1 1 0 0 0 1 1 1 1 1 0 0 0 0 1 1 0 0 0 1 0 1 0 1 1 0 0\n",
            " 1 0 0 0 0 1 0 1 0 0 0 1 1 0 0 0 0 1 1 1 1 0 1 1 1 0 1 1 0 1 1 1 1 0 1 0 0\n",
            " 1 0 1 1 0 0 1 0 1 0 1 0 1 1 0 0 0 1 0 0 1 0 0 1 1 0 0 1 1 1 0 0 0 0 0 1 0\n",
            " 1 0 1 0 0]\n"
          ]
        }
      ]
    },
    {
      "cell_type": "markdown",
      "source": [
        "Generate confusion matrix and classification report"
      ],
      "metadata": {
        "id": "s8ACctVhVtG7"
      }
    },
    {
      "cell_type": "code",
      "source": [
        "from sklearn.metrics import confusion_matrix,classification_report,accuracy_score"
      ],
      "metadata": {
        "id": "yySS2uNlVsHX"
      },
      "execution_count": null,
      "outputs": []
    },
    {
      "cell_type": "code",
      "source": [
        "cm=confusion_matrix(y_test,p2)\n",
        "print(cm)\n",
        "print(classification_report(y_test,p2))\n",
        "print(\"Accuracy score\",accuracy_score(y_test,p2))"
      ],
      "metadata": {
        "colab": {
          "base_uri": "https://localhost:8080/"
        },
        "id": "RZTTtfA9WU8k",
        "outputId": "ec34c0a7-9913-4732-a142-524c43858a54"
      },
      "execution_count": null,
      "outputs": [
        {
          "output_type": "stream",
          "name": "stdout",
          "text": [
            "[[307   9]\n",
            " [  7 311]]\n",
            "              precision    recall  f1-score   support\n",
            "\n",
            "           0       0.98      0.97      0.97       316\n",
            "           1       0.97      0.98      0.97       318\n",
            "\n",
            "    accuracy                           0.97       634\n",
            "   macro avg       0.97      0.97      0.97       634\n",
            "weighted avg       0.97      0.97      0.97       634\n",
            "\n",
            "Accuracy score 0.9747634069400631\n"
          ]
        }
      ]
    },
    {
      "cell_type": "markdown",
      "source": [
        "3) KNeighborsClassifier Model"
      ],
      "metadata": {
        "id": "BOoo1FwVWkv4"
      }
    },
    {
      "cell_type": "code",
      "source": [
        "from sklearn.neighbors import KNeighborsClassifier"
      ],
      "metadata": {
        "id": "UFw0MLqzXhJ9"
      },
      "execution_count": null,
      "outputs": []
    },
    {
      "cell_type": "code",
      "source": [
        "k_neighbors=KNeighborsClassifier(n_neighbors=100)\n",
        "k_neighbors.fit(x_train,y_train)"
      ],
      "metadata": {
        "colab": {
          "base_uri": "https://localhost:8080/"
        },
        "id": "n0KXpnvSYPMT",
        "outputId": "55073e11-9c81-4b11-9bcf-3c827e00c4ee"
      },
      "execution_count": null,
      "outputs": [
        {
          "output_type": "execute_result",
          "data": {
            "text/plain": [
              "KNeighborsClassifier(n_neighbors=100)"
            ]
          },
          "metadata": {},
          "execution_count": 23
        }
      ]
    },
    {
      "cell_type": "code",
      "source": [
        "print(\"training score\",k_neighbors.score(x_train,y_train))\n",
        "print(\"test score\",k_neighbors.score(x_test,y_test))"
      ],
      "metadata": {
        "colab": {
          "base_uri": "https://localhost:8080/"
        },
        "id": "mTpc12hUd1Jh",
        "outputId": "02a4d9fe-4685-43f5-efea-b14e172770a0"
      },
      "execution_count": null,
      "outputs": [
        {
          "output_type": "stream",
          "name": "stdout",
          "text": [
            "training score 0.6886345698500395\n",
            "test score 0.7034700315457413\n"
          ]
        }
      ]
    },
    {
      "cell_type": "code",
      "source": [
        "p3=k_neighbors.predict(x_test)\n",
        "print(p3)"
      ],
      "metadata": {
        "colab": {
          "base_uri": "https://localhost:8080/"
        },
        "id": "g598t3tUej3S",
        "outputId": "65b2df69-6232-4bfa-b7f6-6b62400b7050"
      },
      "execution_count": null,
      "outputs": [
        {
          "output_type": "stream",
          "name": "stdout",
          "text": [
            "[0 1 0 1 1 1 1 1 0 0 0 1 1 1 0 0 1 0 0 1 0 1 0 0 0 0 0 0 0 0 1 1 0 1 0 1 1\n",
            " 0 0 0 1 1 0 0 1 1 0 1 0 0 0 1 1 1 1 0 1 0 0 0 0 1 0 1 0 1 0 0 0 0 0 0 0 0\n",
            " 0 0 1 1 0 1 0 1 1 1 0 0 1 1 1 1 0 0 0 0 1 1 0 0 1 0 1 1 1 0 1 0 1 0 1 0 1\n",
            " 0 0 1 0 0 0 0 0 1 0 1 0 1 1 0 1 0 1 1 1 1 1 1 1 0 1 1 0 0 1 1 1 1 0 0 0 0\n",
            " 1 0 1 1 0 0 1 0 1 1 1 1 1 0 0 1 0 0 1 0 0 0 0 1 0 0 0 0 0 0 0 1 1 1 0 1 1\n",
            " 0 1 0 0 1 0 0 0 1 0 1 0 1 1 1 1 1 1 1 0 0 1 0 1 1 0 1 1 1 1 0 1 1 0 0 0 0\n",
            " 1 1 0 0 0 1 0 0 0 1 0 0 0 0 0 1 0 0 0 0 0 1 1 0 0 0 1 0 0 1 1 1 1 0 0 1 1\n",
            " 0 0 0 0 0 1 1 0 0 0 1 0 0 1 1 0 1 0 0 0 1 1 0 1 0 0 0 0 1 0 1 1 1 1 1 0 0\n",
            " 0 1 1 0 0 1 1 1 0 0 0 0 0 1 0 0 0 0 1 0 0 0 1 1 1 0 1 0 1 0 0 0 1 0 0 0 0\n",
            " 1 1 1 1 1 0 0 1 1 0 0 0 0 1 1 0 1 0 1 1 0 1 1 0 1 0 1 1 0 1 1 0 1 0 1 1 0\n",
            " 1 0 0 1 0 1 1 1 1 0 1 0 0 1 1 0 0 1 1 1 0 0 1 0 1 0 1 0 0 1 1 1 1 0 1 0 1\n",
            " 1 1 1 0 1 0 0 0 1 0 1 1 0 0 1 0 1 0 0 1 1 0 0 0 0 0 0 1 0 0 0 1 0 0 0 1 0\n",
            " 1 0 1 0 1 1 1 1 1 0 1 1 0 0 0 1 0 1 0 1 1 1 1 0 0 0 0 0 0 1 1 0 0 0 0 0 1\n",
            " 1 1 1 0 0 0 0 1 0 0 0 0 0 0 0 1 0 0 0 0 1 1 1 0 0 1 0 0 1 1 0 0 0 0 0 0 0\n",
            " 1 0 1 0 0 0 1 1 1 0 1 1 0 1 0 1 1 0 1 0 0 1 0 0 1 0 0 0 1 0 0 1 0 1 1 0 0\n",
            " 1 1 0 0 0 0 0 1 1 0 0 0 1 1 0 1 0 1 0 1 0 0 1 0 0 1 1 0 1 0 0 1 1 0 1 1 0\n",
            " 1 0 1 1 0 1 1 0 1 0 1 0 1 0 1 1 0 1 0 1 1 0 0 0 0 0 1 1 0 0 1 0 1 0 1 1 1\n",
            " 1 0 1 0 0]\n"
          ]
        }
      ]
    },
    {
      "cell_type": "markdown",
      "source": [
        "Generate Confusion matrix and Classification report"
      ],
      "metadata": {
        "id": "JiOvb_Hceka9"
      }
    },
    {
      "cell_type": "code",
      "source": [
        "cm=confusion_matrix(y_test,p3)\n",
        "print(cm)\n",
        "print(classification_report(y_test,p3))\n",
        "print(\"Accuracy score\",accuracy_score(y_test,p3))"
      ],
      "metadata": {
        "colab": {
          "base_uri": "https://localhost:8080/"
        },
        "id": "-E7ufdZSfRaz",
        "outputId": "2f5d570f-334d-4a7e-9e55-4ecf5b7868e0"
      },
      "execution_count": null,
      "outputs": [
        {
          "output_type": "stream",
          "name": "stdout",
          "text": [
            "[[236  80]\n",
            " [108 210]]\n",
            "              precision    recall  f1-score   support\n",
            "\n",
            "           0       0.69      0.75      0.72       316\n",
            "           1       0.72      0.66      0.69       318\n",
            "\n",
            "    accuracy                           0.70       634\n",
            "   macro avg       0.71      0.70      0.70       634\n",
            "weighted avg       0.71      0.70      0.70       634\n",
            "\n",
            "Accuracy score 0.7034700315457413\n"
          ]
        }
      ]
    },
    {
      "cell_type": "markdown",
      "source": [
        "4) LogisticRegression Classifier"
      ],
      "metadata": {
        "id": "e_PI3m-hgd2l"
      }
    },
    {
      "cell_type": "code",
      "source": [
        "from sklearn.linear_model import LogisticRegression"
      ],
      "metadata": {
        "id": "xWNDgbiOgsLf"
      },
      "execution_count": null,
      "outputs": []
    },
    {
      "cell_type": "code",
      "source": [
        "L_Regression=LogisticRegression(max_iter=1000)\n",
        "L_Regression.fit(x_train,y_train)"
      ],
      "metadata": {
        "colab": {
          "base_uri": "https://localhost:8080/"
        },
        "id": "6jQViqMyhIQy",
        "outputId": "e8937680-4451-4242-c4dc-6018612246b9"
      },
      "execution_count": null,
      "outputs": [
        {
          "output_type": "execute_result",
          "data": {
            "text/plain": [
              "LogisticRegression(max_iter=1000)"
            ]
          },
          "metadata": {},
          "execution_count": 13
        }
      ]
    },
    {
      "cell_type": "code",
      "source": [
        "print(\"training score\",L_Regression.score(x_train,y_train))\n",
        "print(\"test score\",L_Regression.score(x_test,y_test))"
      ],
      "metadata": {
        "colab": {
          "base_uri": "https://localhost:8080/"
        },
        "id": "f0nqTrr2QIwp",
        "outputId": "e777a001-4184-4b82-aa84-dd473ffe6387"
      },
      "execution_count": null,
      "outputs": [
        {
          "output_type": "stream",
          "name": "stdout",
          "text": [
            "training score 0.9116022099447514\n",
            "test score 0.8958990536277602\n"
          ]
        }
      ]
    },
    {
      "cell_type": "code",
      "source": [
        "p4=L_Regression.predict(x_test)\n",
        "print(p4)"
      ],
      "metadata": {
        "colab": {
          "base_uri": "https://localhost:8080/"
        },
        "id": "wefF8m9oQieI",
        "outputId": "bb859b07-940c-47e4-e2fd-bc8907302090"
      },
      "execution_count": null,
      "outputs": [
        {
          "output_type": "stream",
          "name": "stdout",
          "text": [
            "['male' 'male' 'male' 'female' 'female' 'female' 'female' 'female' 'male'\n",
            " 'male' 'male' 'female' 'male' 'female' 'female' 'male' 'female' 'male'\n",
            " 'male' 'female' 'male' 'female' 'female' 'female' 'male' 'male' 'male'\n",
            " 'male' 'female' 'male' 'male' 'female' 'female' 'female' 'female' 'male'\n",
            " 'female' 'male' 'male' 'male' 'female' 'male' 'male' 'male' 'female'\n",
            " 'female' 'male' 'female' 'female' 'male' 'male' 'female' 'female'\n",
            " 'female' 'female' 'male' 'female' 'male' 'male' 'male' 'male' 'female'\n",
            " 'male' 'female' 'female' 'female' 'male' 'male' 'male' 'male' 'male'\n",
            " 'male' 'male' 'male' 'male' 'male' 'female' 'female' 'male' 'female'\n",
            " 'female' 'male' 'male' 'female' 'male' 'male' 'male' 'female' 'female'\n",
            " 'female' 'female' 'male' 'male' 'female' 'male' 'male' 'male' 'male'\n",
            " 'female' 'female' 'female' 'female' 'male' 'male' 'female' 'male' 'male'\n",
            " 'male' 'female' 'female' 'female' 'female' 'female' 'male' 'male' 'male'\n",
            " 'male' 'male' 'male' 'male' 'male' 'male' 'male' 'male' 'female' 'male'\n",
            " 'male' 'male' 'female' 'female' 'female' 'female' 'female' 'male'\n",
            " 'female' 'female' 'female' 'male' 'male' 'male' 'female' 'male' 'female'\n",
            " 'female' 'male' 'male' 'female' 'male' 'female' 'male' 'female' 'female'\n",
            " 'male' 'male' 'female' 'female' 'female' 'female' 'male' 'female' 'male'\n",
            " 'male' 'male' 'female' 'female' 'male' 'female' 'male' 'female' 'female'\n",
            " 'male' 'female' 'male' 'male' 'male' 'male' 'male' 'male' 'male' 'female'\n",
            " 'female' 'female' 'female' 'female' 'female' 'male' 'female' 'female'\n",
            " 'female' 'female' 'female' 'male' 'female' 'female' 'male' 'male' 'male'\n",
            " 'female' 'male' 'female' 'male' 'female' 'female' 'male' 'male' 'male'\n",
            " 'male' 'male' 'female' 'female' 'female' 'female' 'female' 'female'\n",
            " 'male' 'male' 'female' 'female' 'female' 'male' 'male' 'male' 'female'\n",
            " 'female' 'male' 'male' 'male' 'male' 'male' 'male' 'male' 'male' 'male'\n",
            " 'male' 'female' 'female' 'male' 'female' 'male' 'male' 'male' 'female'\n",
            " 'male' 'female' 'female' 'male' 'male' 'female' 'female' 'male' 'male'\n",
            " 'female' 'male' 'female' 'female' 'female' 'female' 'female' 'male'\n",
            " 'male' 'male' 'male' 'female' 'male' 'female' 'female' 'male' 'male'\n",
            " 'male' 'female' 'male' 'male' 'female' 'female' 'female' 'female' 'male'\n",
            " 'male' 'female' 'female' 'male' 'female' 'female' 'female' 'male'\n",
            " 'female' 'male' 'female' 'male' 'female' 'female' 'female' 'male' 'male'\n",
            " 'male' 'female' 'male' 'male' 'female' 'male' 'male' 'female' 'female'\n",
            " 'female' 'male' 'male' 'female' 'male' 'female' 'female' 'male' 'male'\n",
            " 'male' 'male' 'female' 'female' 'male' 'male' 'female' 'female' 'male'\n",
            " 'male' 'male' 'male' 'female' 'male' 'male' 'male' 'female' 'male' 'male'\n",
            " 'male' 'male' 'female' 'male' 'female' 'female' 'female' 'male' 'male'\n",
            " 'female' 'male' 'male' 'male' 'male' 'male' 'male' 'female' 'male'\n",
            " 'female' 'male' 'male' 'male' 'male' 'female' 'male' 'male' 'female'\n",
            " 'male' 'female' 'male' 'male' 'female' 'female' 'female' 'male' 'male'\n",
            " 'female' 'female' 'female' 'female' 'male' 'male' 'female' 'male'\n",
            " 'female' 'male' 'female' 'female' 'female' 'male' 'male' 'male' 'male'\n",
            " 'female' 'male' 'male' 'male' 'male' 'male' 'male' 'female' 'male' 'male'\n",
            " 'female' 'male' 'female' 'male' 'male' 'female' 'female' 'female' 'male'\n",
            " 'male' 'female' 'male' 'female' 'female' 'female' 'female' 'male' 'male'\n",
            " 'male' 'male' 'male' 'female' 'male' 'female' 'female' 'female' 'female'\n",
            " 'female' 'female' 'male' 'male' 'male' 'female' 'female' 'male' 'female'\n",
            " 'male' 'male' 'male' 'male' 'female' 'female' 'male' 'female' 'male'\n",
            " 'male' 'male' 'male' 'male' 'male' 'female' 'male' 'male' 'male' 'female'\n",
            " 'female' 'male' 'female' 'male' 'male' 'female' 'female' 'female' 'male'\n",
            " 'male' 'male' 'male' 'female' 'male' 'female' 'male' 'female' 'female'\n",
            " 'male' 'female' 'male' 'female' 'male' 'male' 'female' 'female' 'male'\n",
            " 'male' 'female' 'male' 'male' 'male' 'male' 'female' 'male' 'female'\n",
            " 'male' 'male' 'male' 'female' 'male' 'female' 'male' 'male' 'male' 'male'\n",
            " 'male' 'male' 'male' 'female' 'female' 'male' 'female' 'female' 'female'\n",
            " 'male' 'male' 'female' 'male' 'male' 'male' 'female' 'male' 'male' 'male'\n",
            " 'male' 'male' 'male' 'male' 'female' 'male' 'male' 'male' 'male' 'male'\n",
            " 'female' 'female' 'female' 'male' 'male' 'female' 'male' 'male' 'male'\n",
            " 'female' 'female' 'male' 'female' 'male' 'male' 'male' 'male' 'male'\n",
            " 'female' 'female' 'male' 'male' 'male' 'female' 'male' 'female' 'male'\n",
            " 'female' 'female' 'male' 'male' 'female' 'male' 'male' 'male' 'female'\n",
            " 'female' 'male' 'female' 'male' 'male' 'male' 'female' 'female' 'male'\n",
            " 'male' 'male' 'male' 'female' 'female' 'male' 'female' 'male' 'female'\n",
            " 'male' 'female' 'male' 'male' 'female' 'male' 'female' 'female' 'female'\n",
            " 'female' 'male' 'female' 'male' 'male' 'female' 'male' 'female' 'female'\n",
            " 'male' 'female' 'female' 'male' 'female' 'male' 'female' 'male' 'female'\n",
            " 'female' 'female' 'male' 'male' 'female' 'male' 'male' 'female' 'male'\n",
            " 'male' 'female' 'female' 'male' 'female' 'female' 'female' 'female'\n",
            " 'male' 'male' 'male' 'male' 'male' 'female' 'male' 'female' 'male'\n",
            " 'female' 'male' 'male']\n"
          ]
        }
      ]
    },
    {
      "cell_type": "markdown",
      "source": [
        "Generate Confusion Matrix Classfication Report"
      ],
      "metadata": {
        "id": "X02UTPN_Q4kf"
      }
    },
    {
      "cell_type": "code",
      "source": [
        "cm=confusion_matrix(y_test,p4)\n",
        "print(cm)\n",
        "print(classification_report(y_test,p4))\n",
        "print(\"Accuracy score\",accuracy_score(y_test,p4))"
      ],
      "metadata": {
        "colab": {
          "base_uri": "https://localhost:8080/"
        },
        "id": "Pcs5Lj3gQ383",
        "outputId": "97ed16f9-f4a9-4ab2-9e75-e37476995635"
      },
      "execution_count": null,
      "outputs": [
        {
          "output_type": "stream",
          "name": "stdout",
          "text": [
            "[[266  52]\n",
            " [ 14 302]]\n",
            "              precision    recall  f1-score   support\n",
            "\n",
            "      female       0.95      0.84      0.89       318\n",
            "        male       0.85      0.96      0.90       316\n",
            "\n",
            "    accuracy                           0.90       634\n",
            "   macro avg       0.90      0.90      0.90       634\n",
            "weighted avg       0.90      0.90      0.90       634\n",
            "\n",
            "Accuracy score 0.8958990536277602\n"
          ]
        }
      ]
    },
    {
      "cell_type": "markdown",
      "source": [
        "5)Support Vector Classifier (SVC)"
      ],
      "metadata": {
        "id": "gZxCvBVJRnCC"
      }
    },
    {
      "cell_type": "code",
      "source": [
        "from sklearn.svm import SVC"
      ],
      "metadata": {
        "id": "uNLZcd1KTky8"
      },
      "execution_count": null,
      "outputs": []
    },
    {
      "cell_type": "code",
      "source": [
        "sv_classifier=SVC(kernel='linear',C=1)\n",
        "sv_classifier.fit(x_train,y_train)"
      ],
      "metadata": {
        "colab": {
          "base_uri": "https://localhost:8080/"
        },
        "id": "E_gSmR5dVjTk",
        "outputId": "cde4169f-2668-4225-d1ef-6d0514eaa545"
      },
      "execution_count": null,
      "outputs": [
        {
          "output_type": "execute_result",
          "data": {
            "text/plain": [
              "SVC(C=1, kernel='linear')"
            ]
          },
          "metadata": {},
          "execution_count": 24
        }
      ]
    },
    {
      "cell_type": "code",
      "source": [
        "print(\"training score\",sv_classifier.score(x_train,y_train))\n",
        "print(\"test score\",sv_classifier.score(x_test,y_test))"
      ],
      "metadata": {
        "colab": {
          "base_uri": "https://localhost:8080/"
        },
        "id": "ngwBtEpxXY8k",
        "outputId": "010f9550-efa3-4e78-b751-5f3063947fb7"
      },
      "execution_count": null,
      "outputs": [
        {
          "output_type": "stream",
          "name": "stdout",
          "text": [
            "training score 0.9238358326756116\n",
            "test score 0.9069400630914827\n"
          ]
        }
      ]
    },
    {
      "cell_type": "code",
      "source": [
        "p5=sv_classifier.predict(x_test)\n",
        "print(p5)"
      ],
      "metadata": {
        "colab": {
          "base_uri": "https://localhost:8080/"
        },
        "id": "f2P6TW1KXxsX",
        "outputId": "8ac23293-6618-419f-c5ca-64d7fb8738c5"
      },
      "execution_count": null,
      "outputs": [
        {
          "output_type": "stream",
          "name": "stdout",
          "text": [
            "['male' 'male' 'male' 'female' 'female' 'female' 'female' 'female' 'male'\n",
            " 'male' 'male' 'female' 'male' 'female' 'female' 'male' 'female' 'male'\n",
            " 'male' 'female' 'male' 'female' 'female' 'female' 'male' 'male' 'male'\n",
            " 'male' 'female' 'male' 'male' 'female' 'female' 'female' 'female' 'male'\n",
            " 'female' 'male' 'female' 'male' 'female' 'male' 'male' 'male' 'female'\n",
            " 'female' 'male' 'female' 'female' 'male' 'male' 'female' 'male' 'female'\n",
            " 'female' 'male' 'female' 'male' 'male' 'male' 'male' 'female' 'male'\n",
            " 'female' 'female' 'female' 'male' 'male' 'male' 'male' 'male' 'male'\n",
            " 'male' 'male' 'male' 'male' 'female' 'female' 'male' 'male' 'female'\n",
            " 'male' 'male' 'female' 'male' 'male' 'male' 'female' 'female' 'female'\n",
            " 'female' 'male' 'male' 'female' 'male' 'male' 'male' 'male' 'female'\n",
            " 'female' 'female' 'female' 'male' 'male' 'female' 'male' 'male' 'male'\n",
            " 'female' 'female' 'female' 'male' 'female' 'male' 'male' 'male' 'male'\n",
            " 'male' 'male' 'male' 'male' 'male' 'male' 'male' 'female' 'male' 'male'\n",
            " 'male' 'female' 'female' 'female' 'female' 'female' 'male' 'female'\n",
            " 'female' 'female' 'male' 'male' 'male' 'female' 'male' 'female' 'female'\n",
            " 'male' 'male' 'female' 'male' 'female' 'male' 'female' 'female' 'male'\n",
            " 'male' 'female' 'female' 'female' 'female' 'male' 'female' 'male' 'male'\n",
            " 'male' 'female' 'female' 'female' 'female' 'male' 'female' 'female'\n",
            " 'male' 'female' 'male' 'male' 'male' 'male' 'male' 'male' 'male' 'female'\n",
            " 'female' 'female' 'male' 'female' 'female' 'male' 'female' 'male'\n",
            " 'female' 'female' 'female' 'male' 'female' 'female' 'male' 'male' 'male'\n",
            " 'female' 'male' 'female' 'male' 'female' 'female' 'male' 'male' 'male'\n",
            " 'male' 'male' 'female' 'female' 'female' 'female' 'female' 'female'\n",
            " 'female' 'male' 'female' 'male' 'female' 'male' 'male' 'male' 'female'\n",
            " 'female' 'male' 'male' 'male' 'male' 'female' 'male' 'male' 'male' 'male'\n",
            " 'male' 'female' 'female' 'male' 'female' 'female' 'male' 'male' 'female'\n",
            " 'male' 'female' 'female' 'male' 'male' 'female' 'female' 'male' 'male'\n",
            " 'female' 'male' 'female' 'female' 'female' 'female' 'female' 'male'\n",
            " 'male' 'male' 'male' 'male' 'male' 'female' 'female' 'male' 'male' 'male'\n",
            " 'female' 'male' 'male' 'female' 'female' 'female' 'female' 'male' 'male'\n",
            " 'female' 'female' 'male' 'female' 'female' 'female' 'male' 'female'\n",
            " 'male' 'female' 'male' 'female' 'female' 'female' 'male' 'female' 'male'\n",
            " 'female' 'male' 'male' 'female' 'male' 'male' 'female' 'female' 'female'\n",
            " 'male' 'male' 'female' 'male' 'female' 'female' 'male' 'male' 'male'\n",
            " 'male' 'female' 'female' 'male' 'male' 'female' 'female' 'female' 'male'\n",
            " 'male' 'male' 'female' 'male' 'male' 'male' 'female' 'male' 'male' 'male'\n",
            " 'male' 'female' 'male' 'female' 'female' 'female' 'male' 'male' 'female'\n",
            " 'male' 'male' 'male' 'male' 'male' 'male' 'female' 'male' 'female' 'male'\n",
            " 'male' 'male' 'male' 'female' 'male' 'male' 'female' 'male' 'female'\n",
            " 'male' 'male' 'female' 'female' 'female' 'male' 'male' 'female' 'female'\n",
            " 'female' 'female' 'male' 'male' 'female' 'male' 'female' 'male' 'female'\n",
            " 'female' 'female' 'male' 'male' 'male' 'male' 'female' 'male' 'male'\n",
            " 'male' 'male' 'male' 'male' 'female' 'male' 'male' 'female' 'male'\n",
            " 'female' 'male' 'male' 'female' 'female' 'female' 'male' 'male' 'female'\n",
            " 'male' 'female' 'female' 'female' 'female' 'male' 'male' 'male' 'male'\n",
            " 'male' 'female' 'male' 'female' 'female' 'female' 'female' 'female'\n",
            " 'female' 'male' 'male' 'female' 'female' 'female' 'male' 'female' 'male'\n",
            " 'male' 'male' 'male' 'female' 'female' 'male' 'female' 'male' 'male'\n",
            " 'male' 'male' 'male' 'male' 'female' 'male' 'male' 'male' 'female'\n",
            " 'female' 'male' 'female' 'male' 'male' 'female' 'female' 'female' 'male'\n",
            " 'male' 'male' 'male' 'female' 'male' 'female' 'male' 'female' 'female'\n",
            " 'male' 'female' 'male' 'female' 'male' 'male' 'male' 'female' 'male'\n",
            " 'male' 'female' 'male' 'male' 'male' 'male' 'female' 'male' 'female'\n",
            " 'male' 'male' 'female' 'female' 'male' 'female' 'male' 'male' 'male'\n",
            " 'male' 'male' 'male' 'male' 'female' 'female' 'male' 'female' 'female'\n",
            " 'female' 'male' 'male' 'female' 'male' 'female' 'male' 'female' 'male'\n",
            " 'male' 'male' 'male' 'male' 'male' 'male' 'female' 'male' 'female' 'male'\n",
            " 'male' 'male' 'female' 'female' 'female' 'male' 'male' 'female' 'male'\n",
            " 'male' 'male' 'female' 'female' 'male' 'female' 'male' 'male' 'male'\n",
            " 'male' 'male' 'female' 'female' 'male' 'male' 'male' 'male' 'male'\n",
            " 'female' 'male' 'female' 'female' 'male' 'male' 'female' 'male' 'male'\n",
            " 'male' 'female' 'female' 'male' 'female' 'male' 'male' 'male' 'female'\n",
            " 'female' 'male' 'male' 'male' 'male' 'female' 'female' 'female' 'female'\n",
            " 'male' 'female' 'male' 'female' 'male' 'male' 'female' 'male' 'female'\n",
            " 'female' 'female' 'female' 'male' 'female' 'male' 'male' 'female' 'male'\n",
            " 'female' 'female' 'male' 'male' 'female' 'male' 'female' 'male' 'female'\n",
            " 'male' 'female' 'female' 'female' 'male' 'male' 'female' 'male' 'male'\n",
            " 'female' 'male' 'male' 'female' 'female' 'male' 'male' 'female' 'female'\n",
            " 'female' 'male' 'male' 'male' 'male' 'male' 'female' 'male' 'female'\n",
            " 'male' 'female' 'male' 'male']\n"
          ]
        }
      ]
    },
    {
      "cell_type": "markdown",
      "source": [
        "Generate Confusion Matrix And Classification Report"
      ],
      "metadata": {
        "id": "kxZt4cU8YE8N"
      }
    },
    {
      "cell_type": "code",
      "source": [
        "cm=confusion_matrix(y_test,p5)\n",
        "print(cm)\n",
        "print(classification_report(y_test,p5))\n",
        "print(\"Accuracy score\",accuracy_score(y_test,p5))"
      ],
      "metadata": {
        "colab": {
          "base_uri": "https://localhost:8080/"
        },
        "id": "XwsCnBeqYDrY",
        "outputId": "ad753793-25b2-455c-dcaf-418dfbdf1893"
      },
      "execution_count": null,
      "outputs": [
        {
          "output_type": "stream",
          "name": "stdout",
          "text": [
            "[[270  48]\n",
            " [ 11 305]]\n",
            "              precision    recall  f1-score   support\n",
            "\n",
            "      female       0.96      0.85      0.90       318\n",
            "        male       0.86      0.97      0.91       316\n",
            "\n",
            "    accuracy                           0.91       634\n",
            "   macro avg       0.91      0.91      0.91       634\n",
            "weighted avg       0.91      0.91      0.91       634\n",
            "\n",
            "Accuracy score 0.9069400630914827\n"
          ]
        }
      ]
    },
    {
      "cell_type": "markdown",
      "source": [
        "#Report the model with best accuracy\n",
        "Based on precision,recall,f1-call,support,Accuracy_score,we can say that Random Forest Classifier and KNeighbors classifier model is best sutable for this problem,where we are predicting the person as male and female based upon their voice signals\n"
      ],
      "metadata": {
        "id": "cMxBW4yTZKRf"
      }
    }
  ]
}